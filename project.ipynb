{
 "cells": [
  {
   "cell_type": "markdown",
   "id": "0fc9c707-7ec8-4950-a924-6a279b74881c",
   "metadata": {},
   "source": [
    "# "
   ]
  },
  {
   "cell_type": "markdown",
   "id": "385e33df",
   "metadata": {},
   "source": [
    "<a href=\"https://www.kaggle.com/code/moeein/python-project?scriptVersionId=155182629\" target=\"_blank\"><img align=\"left\" alt=\"Kaggle\" title=\"Open in Kaggle\" src=\"https://kaggle.com/static/images/open-in-kaggle.svg\"></a>"
   ]
  },
  {
   "cell_type": "markdown",
   "id": "c90c93a2",
   "metadata": {
    "papermill": {
     "duration": 0.034252,
     "end_time": "2023-12-15T20:40:12.778017",
     "exception": false,
     "start_time": "2023-12-15T20:40:12.743765",
     "status": "completed"
    },
    "tags": []
   },
   "source": [
    "\n",
    "  <div dir=rtl>\n",
    "    <img src=\"https://github.com/MoeeinAali/FOP2023-Python-Project-SUT/blob/main/public/Logo.png?raw=true\" style=\"width: 20%;\">\n",
    "  </div>\n",
    "  <br>\n",
    "<div dir = \"rtl\" style=\"font-face:IranSansX;direction:rtl;line-height:250%;font-size:small;\">\n",
    "\t<font face=\"IranSansX\" size=3>\n",
    "        <font face=\"IranSansX\" size=6>\n",
    "        <b>پروژه درس مبانی برنامه‌سازی پایتون</b>\n",
    "            <font face=\"IranSansX\" size=3>(نیم‌سال اول سال تحصیلی 02-03)</font>\n",
    "        </font><br>\n",
    "        <br>\n",
    "                <font face=\"IranSansX\" size=4>نام استاد: <b>آرمان ملک‌زاده </b></font>\n",
    "        <br>\n",
    "        <font face=\"IranSansX\" size=4>سردستیاران آموزشی: <b>ایمان محمدی - علی ثالثی </b></font>\n",
    "        <br>\n",
    "        <font face=\"IranSansX\" size=4>مسئول پروژه: <b> معین آعلی</b></font>\n",
    "    </font>\n",
    "</div>"
   ]
  },
  {
   "cell_type": "markdown",
   "id": "cce2fd4e",
   "metadata": {
    "papermill": {
     "duration": 0.033105,
     "end_time": "2023-12-15T20:40:12.847093",
     "exception": false,
     "start_time": "2023-12-15T20:40:12.813988",
     "status": "completed"
    },
    "tags": []
   },
   "source": [
    "<div dir = \"rtl\" style=\"font-face:IranSansX;direction:rtl;line-height:250%;font-size:small;\">\n",
    "\t<font face=\"IranSansX\" size=3>\n",
    "        </font>\n",
    "                    <font face=\"IranSansX\" size=5 color=#006bcf>\n",
    "                        <b>اطلاعات دانشجو</b>\n",
    "                        <br>\n",
    "    </font>\n",
    "                <font face=\"IranSansX\" size=4 color=#006bcf>نام و نام‌خانوادگی: \n",
    "                    <b>\n",
    "                    علی جاویدان پاک\n",
    "                    </b>\n",
    "        </font>\n",
    "        <br>\n",
    "        </font>\n",
    "                <font face=\"IranSansX\" size=4 color=#006bcf>شماره دانشجویی:  \n",
    "                <b>401100671</b>\n",
    "        </font>\n",
    "    </font>\n",
    "</div>"
   ]
  },
  {
   "cell_type": "markdown",
   "id": "ae8c20fb",
   "metadata": {
    "papermill": {
     "duration": 0.033598,
     "end_time": "2023-12-15T20:40:12.913923",
     "exception": false,
     "start_time": "2023-12-15T20:40:12.880325",
     "status": "completed"
    },
    "tags": []
   },
   "source": [
    "<div dir = \"rtl\" style=\"font-face:IranSansX;direction:rtl;line-height:250%;font-size:small;\">\n",
    "\t<font face=\"IranSansX\" size=3>\n",
    "        <b><font color=#cf1f00 size=4>توضیحات پروژه</font></b>\n",
    "        <hr/>\n",
    "       پروژه‌ی تحلیل داده که برای دانشجویان درس مبانی برنامه‌نویسی طراحی شده است، یک فرصت فوق‌العاده برای آشنایی با مفاهیم و فرایندهای مهم در حوزه‌ی تحلیل داده‌ها به دانشجویان ارائه می‌دهد. این پروژه برای دانشجوان این امکان را فراهم می‌کند تا با مراحل مختلف تحلیل داده آشنا شوند، از جمع‌آوری داده‌ها و تمیزکاری آن‌ها تا استفاده از الگوریتم‌ها و روش‌های تحلیلی متنوع برای استخراج اطلاعات مفید و الگوهای مهم. این پروژه نه‌تنها به دانشجویان این امکان را می‌دهد تا مهارت‌های برنامه نویسی خود را به کار بگیرند، بلکه با استفاده از ابزارهای نرم‌افزاری و تکنولوژی‌های مختلف، اطلاعات تحلیلی خود را به شیوه‌های مختلف و قابل فهم برای دیگران نمایش دهند. این پروژه از طریق تحلیل داده‌ها، دانشجویان را با ابزارها و فنون مرتبط با این حوزه آشنا می‌کند و امکان پیدا کردن الگوها و اطلاعات ارزشمند در داده‌ها را فراهم می‌سازد که این موارد می‌تواند در فرآیند تصمیم‌گیری‌های آینده‌ی شغلی و تحصیلی دانشجویان تأثیرگذار باشد.\n",
    "        <br>\n",
    "        دیتاست مورد استفاده در این پروژه شامل اطلاعات تعدادی از خانه‌های شهر تهران است که برای فروش آگهی شده بودند.\n",
    "        این دیتاست شامل مواردی همچون محله، قیمت، متراژ و بعضی از ویژگی‌های خاص هر خانه مانند انباری، آسانسور و ... است.\n",
    "         <br>\n",
    "        در این پروژه ما داد‌ها را تحلیل می‌کنیم و اطلاعاتی از وضعیت خانه‌های آگهی شده‌ی شهر تهران بدست می‌آوریم.\n",
    "    </font>\n",
    "</div>"
   ]
  },
  {
   "cell_type": "markdown",
   "id": "b6bae796",
   "metadata": {
    "papermill": {
     "duration": 0.096676,
     "end_time": "2023-12-15T20:40:13.044073",
     "exception": false,
     "start_time": "2023-12-15T20:40:12.947397",
     "status": "completed"
    },
    "tags": []
   },
   "source": [
    "<div dir = \"rtl\" style=\"font-face:IranSansX;direction:rtl;line-height:250%;font-size:small;\">\n",
    "\t<font face=\"IranSansX\" size=3>\n",
    "        <b><font color=#cf1f00 size=4>نحوه تحویل پروژه</font></b>\n",
    "        <hr/>\n",
    "        دیتاست مورد استفاده در این پروژه در قالب یک فایل csv در اختیار شما قرار داده شده است.\n",
    "        <br>\n",
    "        برای تحویل پروژه لازم است که این NoteBook را تا ساعت 23:59 تاریخ 27 دی‌ماه تکمیل کرده و فایل آن را در کوئرا آپلود کنید.\n",
    "        دقت کنید که این پروژه 3 نمره از بارم‌بندی کل درس را شامل می‌شود، درنتیجه انتظار می‌روند به نسبت نمره‌ی اختصاص داده شده، برای پروژه وقت گذاشته شود.\n",
    "        دقت کنید که پس از اپلود پروژه در کوئرا، باید پروژه را برای تیم تدریس درس ارائه دهید، پس سعی کنید کدهایی که می‌زنید را متوجه شوید و به خوبی درک کنید و برای ارائه‌ی آن‌ها آماده باشید.\n",
    "        <br>\n",
    "        توجه داشته باشید که در صورت ابراز تقلب شما هنگام تحویل پروژه، مطابق با آیین‌نامه‌ی درس با شما برخورد خواهد شد.\n",
    "        <br>\n",
    "        شما\n",
    "        می‌توانید از هوش مصنوعی و گوگل برای یادگیری مطالب این پروژه استفاده کنید، اما الزامی است که کدهای این NoteBook توسط خودتان زده شده باشد.\n",
    "    </font>\n",
    "</div>"
   ]
  },
  {
   "cell_type": "markdown",
   "id": "9fbee584",
   "metadata": {
    "papermill": {
     "duration": 0.033274,
     "end_time": "2023-12-15T20:40:13.110956",
     "exception": false,
     "start_time": "2023-12-15T20:40:13.077682",
     "status": "completed"
    },
    "tags": []
   },
   "source": [
    "<div dir = \"rtl\" style=\"font-face:IranSansX;direction:rtl;line-height:250%;font-size:small;\">\n",
    "\t<font face=\"IranSansX\" size=3>\n",
    "        <b><font color=#cf0000 size=4>نصب کتابخانه‌های مورد نیاز</font><b>\n",
    "        <hr/>\n",
    "            برای نصب کتابخانه‌های مورد نیاز در این پروژه، از pip استفاده می‌کنیم. بنابراین در ابتدا لازم است از نصب بودن pip برروی سیستم خود مطمئن شوید.\n",
    "            <a href=\"https://phoenixnap.com/kb/install-pip-windows\">می‌توانید از این لینک کمک بگیرید.</a>\n",
    "<br>\n",
    "        حال که pip را نصب کردید می‌توانید اقدام به نصب کتابخانه‌های مورد نیاز بکنید.\n",
    "        در این پروژه پیش‌بینی می‌شود که از نیازمند استفاده از کتابخانه‌هایی همچون numpy و pandas و matplotlib و seaborn باشید.\n",
    "        البته شما آزاد هستید از دیگر کتابخانه‌های پایتون نیز استفاده کنید.\n",
    "> >             برای نصف کتابخانه‌های فوق به کمک pip، می‌توانید از دستور زیر استفاده کنید:\n",
    "    </font>\n",
    "</div>"
   ]
  },
  {
   "cell_type": "code",
   "execution_count": 1,
   "id": "cf1ccffb",
   "metadata": {
    "papermill": {
     "duration": 15.351969,
     "end_time": "2023-12-15T20:40:28.496567",
     "exception": false,
     "start_time": "2023-12-15T20:40:13.144598",
     "status": "completed"
    },
    "tags": []
   },
   "outputs": [
    {
     "name": "stdout",
     "output_type": "stream",
     "text": [
      "\u001b[1;31merror\u001b[0m: \u001b[1mexternally-managed-environment\u001b[0m\n",
      "\n",
      "\u001b[31m×\u001b[0m This environment is externally managed\n",
      "\u001b[31m╰─>\u001b[0m To install Python packages system-wide, try 'pacman -S\n",
      "\u001b[31m   \u001b[0m python-xyz', where xyz is the package you are trying to\n",
      "\u001b[31m   \u001b[0m install.\n",
      "\u001b[31m   \u001b[0m \n",
      "\u001b[31m   \u001b[0m If you wish to install a non-Arch-packaged Python package,\n",
      "\u001b[31m   \u001b[0m create a virtual environment using 'python -m venv path/to/venv'.\n",
      "\u001b[31m   \u001b[0m Then use path/to/venv/bin/python and path/to/venv/bin/pip.\n",
      "\u001b[31m   \u001b[0m \n",
      "\u001b[31m   \u001b[0m If you wish to install a non-Arch packaged Python application,\n",
      "\u001b[31m   \u001b[0m it may be easiest to use 'pipx install xyz', which will manage a\n",
      "\u001b[31m   \u001b[0m virtual environment for you. Make sure you have python-pipx\n",
      "\u001b[31m   \u001b[0m installed via pacman.\n",
      "\n",
      "\u001b[1;35mnote\u001b[0m: If you believe this is a mistake, please contact your Python installation or OS distribution provider. You can override this, at the risk of breaking your Python installation or OS, by passing --break-system-packages.\n",
      "\u001b[1;36mhint\u001b[0m: See PEP 668 for the detailed specification.\n"
     ]
    }
   ],
   "source": [
    "!pip install matplotlib seaborn pandas numpy"
   ]
  },
  {
   "cell_type": "markdown",
   "id": "3a12c439",
   "metadata": {
    "papermill": {
     "duration": 0.034035,
     "end_time": "2023-12-15T20:40:28.564891",
     "exception": false,
     "start_time": "2023-12-15T20:40:28.530856",
     "status": "completed"
    },
    "tags": []
   },
   "source": [
    "<div dir = \"rtl\" style=\"font-face:IranSansX;direction:rtl;line-height:250%;font-size:small;\">\n",
    "\t<font face=\"IranSansX\" size=3>\n",
    "        <b>\n",
    "        <font color=#006bcf size=5>فاز اول پروژه: </font>\n",
    "        <font color=#006bcf size=5>\n",
    "        Data Analysis\n",
    "        </font>\n",
    "        </b>\n",
    "        <br><br>\n",
    "         <font face=\"IranSansX\" size=3>\n",
    "بخش تحلیل داده‌ها در این پروژه، به عنوان یک قسمت بسیار مهم و جذاب، به دانشجو فرصت می‌دهد تا از مفاهیم و تکنیک‌های بنیادی در حوزه‌ی تحلیل داده‌ها استفاده کند. این بخش شامل فرآیندهای مربوط به جمع‌آوری، تمیزکاری، تحلیل و نمایش داده‌ها است که از روش‌ها و ابزارهای مختلفی می‌توان برای این منظور استفاده کرد. با اعمال الگوریتم‌ها، روش‌های مختلف محاسباتی و ابزارهای نرم‌افزاری مناسب، دانشجوان قادر خواهند بود تا داده‌های خود را تجزیه و تحلیل کرده، الگوها و اطلاعات مفیدی را کشف کرده و درک عمیق‌تری از داده‌ها و مسائل مورد بررسی در پروژه خود پیدا کنند. این فرآیند به آن‌ها کمک می‌کند تا تصمیم‌گیری‌های بهتری بر اساس داده‌های موجود انجام دهند و نتایج موثرتری را به‌دست آورند.            </font>\n",
    "        <hr/>\n",
    "        <hr/>\n",
    "    </font>\n",
    "</div>"
   ]
  },
  {
   "cell_type": "markdown",
   "id": "80611f58",
   "metadata": {
    "papermill": {
     "duration": 0.033683,
     "end_time": "2023-12-15T20:40:28.632832",
     "exception": false,
     "start_time": "2023-12-15T20:40:28.599149",
     "status": "completed"
    },
    "tags": []
   },
   "source": [
    "<div dir = \"rtl\" style=\"font-face:IranSansX;direction:rtl;line-height:250%;font-size:small;\">\n",
    "\t<font face=\"IranSansX\" size=3>\n",
    "کتابخانه‌هایی که در مرحله قبل نصب کردید را داخل نوت‌بوک import کنید و برای هر کدام یک نام مخفف مانند sns, plt, np, pd و... در نظر بگیرید.    </font>\n",
    "</div>"
   ]
  },
  {
   "cell_type": "code",
   "execution_count": 2,
   "id": "7fe06d15",
   "metadata": {
    "papermill": {
     "duration": 0.044134,
     "end_time": "2023-12-15T20:40:28.711095",
     "exception": false,
     "start_time": "2023-12-15T20:40:28.666961",
     "status": "completed"
    }
   },
   "outputs": [],
   "source": [
    "import matplotlib.pyplot as plt\n",
    "import seaborn as sns\n",
    "import pandas as pd\n",
    "import numpy as np"
   ]
  },
  {
   "cell_type": "markdown",
   "id": "845b9ce5",
   "metadata": {
    "papermill": {
     "duration": 0.034997,
     "end_time": "2023-12-15T20:40:28.780485",
     "exception": false,
     "start_time": "2023-12-15T20:40:28.745488",
     "status": "completed"
    },
    "tags": []
   },
   "source": [
    "<div dir = \"rtl\" style=\"font-face:IranSansX;direction:rtl;line-height:250%;font-size:small;\">\n",
    "\t<font face=\"IranSansX\" size=3>\n",
    "دیتاست موجود در پروژه که یک فایل csv است را به صورت یک دیتافریم در متغیری به نام df بخوانید.\n",
    "    </font>\n",
    "</div>"
   ]
  },
  {
   "cell_type": "code",
   "execution_count": 3,
   "id": "e947f422",
   "metadata": {
    "papermill": {
     "duration": 0.043269,
     "end_time": "2023-12-15T20:40:28.857923",
     "exception": false,
     "start_time": "2023-12-15T20:40:28.814654",
     "status": "completed"
    }
   },
   "outputs": [],
   "source": [
    "df = pd.read_csv('housePrice.csv')"
   ]
  },
  {
   "cell_type": "markdown",
   "id": "f2474778",
   "metadata": {
    "papermill": {
     "duration": 0.03592,
     "end_time": "2023-12-15T20:40:28.928738",
     "exception": false,
     "start_time": "2023-12-15T20:40:28.892818",
     "status": "completed"
    },
    "tags": []
   },
   "source": [
    "<div dir = \"rtl\" style=\"font-face:IranSansX;direction:rtl;line-height:250%;font-size:small;\">\n",
    "\t<font face=\"IranSansX\" size=3>\n",
    "        ابعاد (تعداد سطرها و تعداد ستون‌ها) دیتافریم را به صورت یک tuple نمایش دهید.\n",
    "    </font>\n",
    "</div>"
   ]
  },
  {
   "cell_type": "code",
   "execution_count": 4,
   "id": "0250c81d",
   "metadata": {
    "papermill": {
     "duration": 0.049411,
     "end_time": "2023-12-15T20:40:29.013852",
     "exception": false,
     "start_time": "2023-12-15T20:40:28.964441",
     "status": "completed"
    }
   },
   "outputs": [
    {
     "name": "stdout",
     "output_type": "stream",
     "text": [
      "(3479, 8)\n"
     ]
    }
   ],
   "source": [
    "print(df.shape)"
   ]
  },
  {
   "cell_type": "markdown",
   "id": "4e7bc0d9",
   "metadata": {
    "papermill": {
     "duration": 0.035025,
     "end_time": "2023-12-15T20:40:29.094514",
     "exception": false,
     "start_time": "2023-12-15T20:40:29.059489",
     "status": "completed"
    },
    "tags": []
   },
   "source": [
    "<div dir = \"rtl\" style=\"font-face:IranSansX;direction:rtl;line-height:250%;font-size:small;\">\n",
    "\t<font face=\"IranSansX\" size=3>\n",
    "        دیتافریم را چاپ کنید.\n",
    "    </font>\n",
    "</div>"
   ]
  },
  {
   "cell_type": "code",
   "execution_count": 5,
   "id": "dc01028f",
   "metadata": {
    "papermill": {
     "duration": 0.04292,
     "end_time": "2023-12-15T20:40:29.172172",
     "exception": false,
     "start_time": "2023-12-15T20:40:29.129252",
     "status": "completed"
    }
   },
   "outputs": [
    {
     "name": "stdout",
     "output_type": "stream",
     "text": [
      "     Area  Room  Parking  Warehouse  Elevator             Address  \\\n",
      "0      63     1     True       True      True             Shahran   \n",
      "1      60     1     True       True      True             Shahran   \n",
      "2      79     2     True       True      True              Pardis   \n",
      "3      95     2     True       True      True       Shahrake Qods   \n",
      "4     123     2     True       True      True      Shahrake Gharb   \n",
      "...   ...   ...      ...        ...       ...                 ...   \n",
      "3474   86     2     True       True      True  Southern Janatabad   \n",
      "3475   83     2     True       True      True            Niavaran   \n",
      "3476   75     2    False      False     False              Parand   \n",
      "3477  105     2     True       True      True              Dorous   \n",
      "3478   82     2    False       True      True              Parand   \n",
      "\n",
      "             Price  Price(USD)  \n",
      "0     1.850000e+09    61666.67  \n",
      "1     1.850000e+09    61666.67  \n",
      "2     5.500000e+08    18333.33  \n",
      "3     9.025000e+08    30083.33  \n",
      "4     7.000000e+09   233333.33  \n",
      "...            ...         ...  \n",
      "3474  3.500000e+09   116666.67  \n",
      "3475  6.800000e+09   226666.67  \n",
      "3476  3.650000e+08    12166.67  \n",
      "3477  5.600000e+09   186666.67  \n",
      "3478  3.600000e+08    12000.00  \n",
      "\n",
      "[3479 rows x 8 columns]\n"
     ]
    }
   ],
   "source": [
    "print(df)"
   ]
  },
  {
   "cell_type": "markdown",
   "id": "9f5cc559",
   "metadata": {
    "papermill": {
     "duration": 0.034214,
     "end_time": "2023-12-15T20:40:29.24124",
     "exception": false,
     "start_time": "2023-12-15T20:40:29.207026",
     "status": "completed"
    },
    "tags": []
   },
   "source": [
    "<div dir = \"rtl\" style=\"font-face:IranSansX;direction:rtl;line-height:250%;font-size:small;\">\n",
    "\t<font face=\"IranSansX\" size=3>\n",
    "        ده سطر اول دیتافریم را چاپ کنید.\n",
    "    </font>\n",
    "</div>"
   ]
  },
  {
   "cell_type": "code",
   "execution_count": 6,
   "id": "11a946fd",
   "metadata": {
    "papermill": {
     "duration": 0.042898,
     "end_time": "2023-12-15T20:40:29.318514",
     "exception": false,
     "start_time": "2023-12-15T20:40:29.275616",
     "status": "completed"
    }
   },
   "outputs": [
    {
     "name": "stdout",
     "output_type": "stream",
     "text": [
      "  Area  Room  Parking  Warehouse  Elevator                     Address  \\\n",
      "0   63     1     True       True      True                     Shahran   \n",
      "1   60     1     True       True      True                     Shahran   \n",
      "2   79     2     True       True      True                      Pardis   \n",
      "3   95     2     True       True      True               Shahrake Qods   \n",
      "4  123     2     True       True      True              Shahrake Gharb   \n",
      "5   70     2     True       True     False  North Program Organization   \n",
      "6   87     2     True       True      True                      Pardis   \n",
      "7   59     1     True       True      True                     Shahran   \n",
      "8   54     2     True       True     False                    Andisheh   \n",
      "9   71     1     True       True      True      West Ferdows Boulevard   \n",
      "\n",
      "          Price  Price(USD)  \n",
      "0  1.850000e+09    61666.67  \n",
      "1  1.850000e+09    61666.67  \n",
      "2  5.500000e+08    18333.33  \n",
      "3  9.025000e+08    30083.33  \n",
      "4  7.000000e+09   233333.33  \n",
      "5  2.050000e+09    68333.33  \n",
      "6  6.000000e+08    20000.00  \n",
      "7  2.150000e+09    71666.67  \n",
      "8  4.930000e+08    16433.33  \n",
      "9  2.370000e+09    79000.00  \n"
     ]
    }
   ],
   "source": [
    "print(df.head(10))"
   ]
  },
  {
   "cell_type": "markdown",
   "id": "a2b4ea4d",
   "metadata": {
    "papermill": {
     "duration": 0.034359,
     "end_time": "2023-12-15T20:40:29.387889",
     "exception": false,
     "start_time": "2023-12-15T20:40:29.35353",
     "status": "completed"
    },
    "tags": []
   },
   "source": [
    "<div dir = \"rtl\" style=\"font-face:IranSansX;direction:rtl;line-height:250%;font-size:small;\">\n",
    "\t<font face=\"IranSansX\" size=3>\n",
    "ده سطر آخر دیتافریم را چاپ کنید.\n",
    "    </font>\n",
    "</div>"
   ]
  },
  {
   "cell_type": "code",
   "execution_count": 7,
   "id": "8b90bb91",
   "metadata": {
    "papermill": {
     "duration": 0.041823,
     "end_time": "2023-12-15T20:40:29.464469",
     "exception": false,
     "start_time": "2023-12-15T20:40:29.422646",
     "status": "completed"
    }
   },
   "outputs": [
    {
     "name": "stdout",
     "output_type": "stream",
     "text": [
      "     Area  Room  Parking  Warehouse  Elevator             Address  \\\n",
      "3469   74     2     True       True      True              Mehran   \n",
      "3470   97     2     True       True      True             Shahran   \n",
      "3471   94     2     True       True      True            Niavaran   \n",
      "3472  113     3     True       True      True         Ostad Moein   \n",
      "3473   63     1     True       True     False         Feiz Garden   \n",
      "3474   86     2     True       True      True  Southern Janatabad   \n",
      "3475   83     2     True       True      True            Niavaran   \n",
      "3476   75     2    False      False     False              Parand   \n",
      "3477  105     2     True       True      True              Dorous   \n",
      "3478   82     2    False       True      True              Parand   \n",
      "\n",
      "             Price  Price(USD)  \n",
      "3469  4.070000e+09   135666.67  \n",
      "3470  2.700000e+09    90000.00  \n",
      "3471  8.450000e+09   281666.67  \n",
      "3472  3.170000e+09   105666.67  \n",
      "3473  1.890000e+09    63000.00  \n",
      "3474  3.500000e+09   116666.67  \n",
      "3475  6.800000e+09   226666.67  \n",
      "3476  3.650000e+08    12166.67  \n",
      "3477  5.600000e+09   186666.67  \n",
      "3478  3.600000e+08    12000.00  \n"
     ]
    }
   ],
   "source": [
    "print(df.tail(10))"
   ]
  },
  {
   "cell_type": "markdown",
   "id": "33391d21",
   "metadata": {
    "papermill": {
     "duration": 0.03444,
     "end_time": "2023-12-15T20:40:29.533576",
     "exception": false,
     "start_time": "2023-12-15T20:40:29.499136",
     "status": "completed"
    },
    "tags": []
   },
   "source": [
    "<div dir = \"rtl\" style=\"font-face:IranSansX;direction:rtl;line-height:250%;font-size:small;\">\n",
    "\t<font face=\"IranSansX\" size=3>\n",
    "        ده سطر از دیتافریم را به صورت تصادفی (Random) انتخاب کرده و آن‌ها را در قالب یک دیتافریم با نام sample_df ذخیره کرده و آن را خروجی دهید.\n",
    "    </font>\n",
    "</div>"
   ]
  },
  {
   "cell_type": "code",
   "execution_count": 8,
   "id": "5acde82c",
   "metadata": {
    "papermill": {
     "duration": 0.043105,
     "end_time": "2023-12-15T20:40:29.611361",
     "exception": false,
     "start_time": "2023-12-15T20:40:29.568256",
     "status": "completed"
    }
   },
   "outputs": [
    {
     "name": "stdout",
     "output_type": "stream",
     "text": [
      "     Area  Room  Parking  Warehouse  Elevator                 Address  \\\n",
      "2483  140     3     True       True      True              Ekhtiarieh   \n",
      "2644   37     1     True       True     False                Andisheh   \n",
      "2656   95     2    False       True      True             Saadat Abad   \n",
      "2574   94     2     True       True      True                Taslihat   \n",
      "1899  115     3     True       True      True            Shahr-e-Ziba   \n",
      "1682  200     3     True       True      True                  Heravi   \n",
      "697    55     1     True       True     False                  Komeil   \n",
      "2267  135     3     True       True      True             Yousef Abad   \n",
      "672    53     1     True       True     False  East Ferdows Boulevard   \n",
      "3215   97     2     True       True      True              Gheitarieh   \n",
      "\n",
      "             Price  Price(USD)  \n",
      "2483  1.100000e+10   366666.67  \n",
      "2644  3.450000e+08    11500.00  \n",
      "2656  9.500000e+09   316666.67  \n",
      "2574  2.650000e+09    88333.33  \n",
      "1899  3.870000e+09   129000.00  \n",
      "1682  1.400000e+10   466666.67  \n",
      "697   1.090000e+09    36333.33  \n",
      "2267  1.000000e+10   333333.33  \n",
      "672   1.920000e+09    64000.00  \n",
      "3215  6.000000e+09   200000.00  \n"
     ]
    }
   ],
   "source": [
    "sample_df = df.sample(10)\n",
    "print(sample_df)"
   ]
  },
  {
   "cell_type": "markdown",
   "id": "594d049f",
   "metadata": {
    "papermill": {
     "duration": 0.034367,
     "end_time": "2023-12-15T20:40:29.680472",
     "exception": false,
     "start_time": "2023-12-15T20:40:29.646105",
     "status": "completed"
    },
    "tags": []
   },
   "source": [
    "<div dir = \"rtl\" style=\"font-face:IranSansX;direction:rtl;line-height:250%;font-size:small;\">\n",
    "\t<font face=\"IranSansX\" size=3>\n",
    "با یک دستور، اطلاعاتی کلی همانند نام ستون‌ها، تعداد indexها، تعداد سلول‌های non-null و... راجع به دیتافریم را بدست اورید.    </font>\n",
    "</div>"
   ]
  },
  {
   "cell_type": "code",
   "execution_count": 9,
   "id": "9da31a99",
   "metadata": {
    "papermill": {
     "duration": 0.043134,
     "end_time": "2023-12-15T20:40:29.758184",
     "exception": false,
     "start_time": "2023-12-15T20:40:29.71505",
     "status": "completed"
    }
   },
   "outputs": [
    {
     "name": "stdout",
     "output_type": "stream",
     "text": [
      "<class 'pandas.core.frame.DataFrame'>\n",
      "RangeIndex: 3479 entries, 0 to 3478\n",
      "Data columns (total 8 columns):\n",
      " #   Column      Non-Null Count  Dtype  \n",
      "---  ------      --------------  -----  \n",
      " 0   Area        3479 non-null   object \n",
      " 1   Room        3479 non-null   int64  \n",
      " 2   Parking     3479 non-null   bool   \n",
      " 3   Warehouse   3479 non-null   bool   \n",
      " 4   Elevator    3479 non-null   bool   \n",
      " 5   Address     3456 non-null   object \n",
      " 6   Price       3479 non-null   float64\n",
      " 7   Price(USD)  3479 non-null   float64\n",
      "dtypes: bool(3), float64(2), int64(1), object(2)\n",
      "memory usage: 146.2+ KB\n",
      "None\n"
     ]
    }
   ],
   "source": [
    "print(df.info())"
   ]
  },
  {
   "cell_type": "markdown",
   "id": "2d006ec7",
   "metadata": {
    "papermill": {
     "duration": 0.034831,
     "end_time": "2023-12-15T20:40:29.82855",
     "exception": false,
     "start_time": "2023-12-15T20:40:29.793719",
     "status": "completed"
    },
    "tags": []
   },
   "source": [
    "<div dir = \"rtl\" style=\"font-face:IranSansX;direction:rtl;line-height:250%;font-size:small;\">\n",
    "\t<font face=\"IranSansX\" size=3>\n",
    "        با یک دستور، اطلاعاتی کلی همانند مقدار ماکزیمم، مینیمم، میانگین، چارک‌ها و... راجع به ستون‌های دیتافریم بدست آورید.\n",
    "    </font>\n",
    "</div>"
   ]
  },
  {
   "cell_type": "code",
   "execution_count": 10,
   "id": "409326f4",
   "metadata": {
    "papermill": {
     "duration": 0.042523,
     "end_time": "2023-12-15T20:40:29.906056",
     "exception": false,
     "start_time": "2023-12-15T20:40:29.863533",
     "status": "completed"
    }
   },
   "outputs": [
    {
     "name": "stdout",
     "output_type": "stream",
     "text": [
      "              Room         Price    Price(USD)\n",
      "count  3479.000000  3.479000e+03  3.479000e+03\n",
      "mean      2.079908  5.359023e+09  1.786341e+05\n",
      "std       0.758275  8.099935e+09  2.699978e+05\n",
      "min       0.000000  3.600000e+06  1.200000e+02\n",
      "25%       2.000000  1.418250e+09  4.727500e+04\n",
      "50%       2.000000  2.900000e+09  9.666667e+04\n",
      "75%       2.000000  6.000000e+09  2.000000e+05\n",
      "max       5.000000  9.240000e+10  3.080000e+06\n"
     ]
    }
   ],
   "source": [
    "print(df.describe())"
   ]
  },
  {
   "cell_type": "markdown",
   "id": "21281207",
   "metadata": {
    "papermill": {
     "duration": 0.034653,
     "end_time": "2023-12-15T20:40:29.97646",
     "exception": false,
     "start_time": "2023-12-15T20:40:29.941807",
     "status": "completed"
    },
    "tags": []
   },
   "source": [
    "<div dir = \"rtl\" style=\"font-face:IranSansX;direction:rtl;line-height:250%;font-size:small;\">\n",
    "\t<font face=\"IranSansX\" size=3>\n",
    "        تعداد سلول‌های خالی در هر ستون از دیتافریم را خروجی دهید.\n",
    "    </font>\n",
    "</div>"
   ]
  },
  {
   "cell_type": "code",
   "execution_count": 11,
   "id": "eea23132",
   "metadata": {
    "papermill": {
     "duration": 0.043823,
     "end_time": "2023-12-15T20:40:30.057216",
     "exception": false,
     "start_time": "2023-12-15T20:40:30.013393",
     "status": "completed"
    }
   },
   "outputs": [
    {
     "name": "stdout",
     "output_type": "stream",
     "text": [
      "Area           0\n",
      "Room           0\n",
      "Parking        0\n",
      "Warehouse      0\n",
      "Elevator       0\n",
      "Address       23\n",
      "Price          0\n",
      "Price(USD)     0\n",
      "dtype: int64\n"
     ]
    }
   ],
   "source": [
    "print(df.isnull().sum())"
   ]
  },
  {
   "cell_type": "markdown",
   "id": "1a23a16c",
   "metadata": {
    "papermill": {
     "duration": 0.035599,
     "end_time": "2023-12-15T20:40:30.127849",
     "exception": false,
     "start_time": "2023-12-15T20:40:30.09225",
     "status": "completed"
    },
    "tags": []
   },
   "source": [
    "<div dir = \"rtl\" style=\"font-face:IranSansX;direction:rtl;line-height:250%;font-size:small;\">\n",
    "\t<font face=\"IranSansX\" size=3>\n",
    "آن سلول‌هایی که خالی هستند را از دیتافریم حذف کنید و دیتافریم جدید را جایگزین قبلی کنید.    </font>\n",
    "</div>"
   ]
  },
  {
   "cell_type": "code",
   "execution_count": 12,
   "id": "c9d013c3",
   "metadata": {
    "papermill": {
     "duration": 0.043535,
     "end_time": "2023-12-15T20:40:30.206091",
     "exception": false,
     "start_time": "2023-12-15T20:40:30.162556",
     "status": "completed"
    }
   },
   "outputs": [],
   "source": [
    "df = df.dropna()\n",
    "#print(df.isnull().sum())"
   ]
  },
  {
   "cell_type": "markdown",
   "id": "44f8aade",
   "metadata": {
    "papermill": {
     "duration": 0.03491,
     "end_time": "2023-12-15T20:40:30.275858",
     "exception": false,
     "start_time": "2023-12-15T20:40:30.240948",
     "status": "completed"
    },
    "tags": []
   },
   "source": [
    "<div dir = \"rtl\" style=\"font-face:IranSansX;direction:rtl;line-height:250%;font-size:small;\">\n",
    "\t<font face=\"IranSansX\" size=3>\n",
    "        با یک دستور، جنس متغیر ذخیره‌شده در هر ستون از دیتافریم را نشان دهید.\n",
    "    </font>\n",
    "</div>"
   ]
  },
  {
   "cell_type": "code",
   "execution_count": 13,
   "id": "a6ed4254",
   "metadata": {
    "papermill": {
     "duration": 0.043405,
     "end_time": "2023-12-15T20:40:30.355863",
     "exception": false,
     "start_time": "2023-12-15T20:40:30.312458",
     "status": "completed"
    }
   },
   "outputs": [
    {
     "name": "stdout",
     "output_type": "stream",
     "text": [
      "Area           object\n",
      "Room            int64\n",
      "Parking          bool\n",
      "Warehouse        bool\n",
      "Elevator         bool\n",
      "Address        object\n",
      "Price         float64\n",
      "Price(USD)    float64\n",
      "dtype: object\n"
     ]
    }
   ],
   "source": [
    "print(df.dtypes)"
   ]
  },
  {
   "cell_type": "markdown",
   "id": "4922dbbd",
   "metadata": {
    "papermill": {
     "duration": 0.034861,
     "end_time": "2023-12-15T20:40:30.425803",
     "exception": false,
     "start_time": "2023-12-15T20:40:30.390942",
     "status": "completed"
    },
    "tags": []
   },
   "source": [
    "<div dir = \"rtl\" style=\"font-face:IranSansX;direction:rtl;line-height:250%;font-size:small;\">\n",
    "\t<font face=\"IranSansX\" size=3>\n",
    "جنس مقادیر ستون‌های  Area و Price  و Price(USD) را از رشته به مقدار عددی تغییر دهید و دیتافریم جدید را جایگزین قبلی کنید.    </font>\n",
    "</div>"
   ]
  },
  {
   "cell_type": "code",
   "execution_count": 14,
   "id": "b31c5fb0",
   "metadata": {
    "papermill": {
     "duration": 0.043664,
     "end_time": "2023-12-15T20:40:30.504334",
     "exception": false,
     "start_time": "2023-12-15T20:40:30.46067",
     "status": "completed"
    },
    "tags": []
   },
   "outputs": [],
   "source": [
    "df['Area'] = pd.to_numeric(df['Area'], errors='coerce')\n",
    "df['Price'] = pd.to_numeric(df['Price'], errors='coerce')\n",
    "df['Price(USD)'] = pd.to_numeric(df['Price(USD)'], errors='coerce')"
   ]
  },
  {
   "cell_type": "markdown",
   "id": "acba9a75",
   "metadata": {
    "papermill": {
     "duration": 0.034741,
     "end_time": "2023-12-15T20:40:30.574887",
     "exception": false,
     "start_time": "2023-12-15T20:40:30.540146",
     "status": "completed"
    },
    "tags": []
   },
   "source": [
    "<div dir = \"rtl\" style=\"font-face:IranSansX;direction:rtl;line-height:250%;font-size:small;\">\n",
    "\t<font face=\"IranSansX\" size=3>\n",
    "        ستون‌هایی که جنس متغیر آن‌ها از نوع Boolean است را به مقادیر عددی تغییر دهید و دیتافریم جدید را جایگزین قبلی کنید. (به ازای True مقدار 1 و به ازای False مقدار 0 جایگزین شود.)\n",
    "    </font>\n",
    "</div>"
   ]
  },
  {
   "cell_type": "code",
   "execution_count": 15,
   "id": "774a0e41",
   "metadata": {
    "papermill": {
     "duration": 0.043196,
     "end_time": "2023-12-15T20:40:30.652893",
     "exception": false,
     "start_time": "2023-12-15T20:40:30.609697",
     "status": "completed"
    },
    "tags": []
   },
   "outputs": [],
   "source": [
    "df['Parking'] = df['Parking'].replace({True:1, False:0})\n",
    "df['Warehouse'] = df['Warehouse'].replace({True:1, False:0})\n",
    "df['Elevator'] = df['Elevator'].replace({True:1, False:0})"
   ]
  },
  {
   "cell_type": "markdown",
   "id": "ca4782d2",
   "metadata": {
    "papermill": {
     "duration": 0.03473,
     "end_time": "2023-12-15T20:40:30.722479",
     "exception": false,
     "start_time": "2023-12-15T20:40:30.687749",
     "status": "completed"
    },
    "tags": []
   },
   "source": [
    "<div dir = \"rtl\" style=\"font-face:IranSansX;direction:rtl;line-height:250%;font-size:small;\">\n",
    "\t<font face=\"IranSansX\" size=3>\n",
    "        دیتافریم جدیدی تشکیل دهید به طوری که نام ستون‌های دیتافریم اصلی در ابتدای سطرها قرار گیرد و اطلاعاتی همانند min , max , mean و... که در قسمت‌های قبلی بدست آوردیم را به عنوان ستون‌های دیتافریم جدید قرار دهید. این دیتافریم جدید را در متغیری با نام df_T ذخیره کنید و چاپ کنید.\n",
    "    </font>\n",
    "</div>"
   ]
  },
  {
   "cell_type": "code",
   "execution_count": 16,
   "id": "d8723bbf",
   "metadata": {
    "papermill": {
     "duration": 0.045587,
     "end_time": "2023-12-15T20:40:30.803079",
     "exception": false,
     "start_time": "2023-12-15T20:40:30.757492",
     "status": "completed"
    },
    "tags": []
   },
   "outputs": [
    {
     "name": "stdout",
     "output_type": "stream",
     "text": [
      "             count          mean           std        min           25%  \\\n",
      "Area        3450.0  1.069174e+02  6.955098e+01       30.0  6.900000e+01   \n",
      "Room        3456.0  2.081308e+00  7.597228e-01        0.0  2.000000e+00   \n",
      "Parking     3456.0  8.475116e-01  3.595457e-01        0.0  1.000000e+00   \n",
      "Warehouse   3456.0  9.149306e-01  2.790254e-01        0.0  1.000000e+00   \n",
      "Elevator    3456.0  7.873264e-01  4.092579e-01        0.0  1.000000e+00   \n",
      "Price       3456.0  5.379957e+09  8.121729e+09  3600000.0  1.420000e+09   \n",
      "Price(USD)  3456.0  1.793319e+05  2.707243e+05      120.0  4.733333e+04   \n",
      "\n",
      "                     50%           75%           max  \n",
      "Area        9.000000e+01  1.200000e+02  9.290000e+02  \n",
      "Room        2.000000e+00  2.000000e+00  5.000000e+00  \n",
      "Parking     1.000000e+00  1.000000e+00  1.000000e+00  \n",
      "Warehouse   1.000000e+00  1.000000e+00  1.000000e+00  \n",
      "Elevator    1.000000e+00  1.000000e+00  1.000000e+00  \n",
      "Price       2.900000e+09  6.000000e+09  9.240000e+10  \n",
      "Price(USD)  9.666667e+04  2.000000e+05  3.080000e+06  \n"
     ]
    }
   ],
   "source": [
    "df_T = pd.DataFrame(df.describe()).T\n",
    "print(df_T)"
   ]
  },
  {
   "cell_type": "markdown",
   "id": "63f4bea2",
   "metadata": {
    "papermill": {
     "duration": 0.034942,
     "end_time": "2023-12-15T20:40:30.873073",
     "exception": false,
     "start_time": "2023-12-15T20:40:30.838131",
     "status": "completed"
    },
    "tags": []
   },
   "source": [
    "<div dir = \"rtl\" style=\"font-face:IranSansX;direction:rtl;line-height:250%;font-size:small;\">\n",
    "\t<font face=\"IranSansX\" size=3>\n",
    "        نام ستون‌های دیتافریم را در یک لیست با نام column_names ذخیره کنید و سپس لیست را چاپ کنید.\n",
    "    </font>\n",
    "</div>"
   ]
  },
  {
   "cell_type": "code",
   "execution_count": 18,
   "id": "aefcb762",
   "metadata": {
    "papermill": {
     "duration": 0.043105,
     "end_time": "2023-12-15T20:40:30.951108",
     "exception": false,
     "start_time": "2023-12-15T20:40:30.908003",
     "status": "completed"
    },
    "tags": []
   },
   "outputs": [
    {
     "name": "stdout",
     "output_type": "stream",
     "text": [
      "['Area', 'Room', 'Parking', 'Warehouse', 'Elevator', 'Address', 'Price', 'Price(USD)']\n"
     ]
    }
   ],
   "source": [
    "columnNames = df.columns.tolist()\n",
    "print(columnNames)"
   ]
  },
  {
   "cell_type": "markdown",
   "id": "92c93113",
   "metadata": {
    "papermill": {
     "duration": 0.036606,
     "end_time": "2023-12-15T20:40:31.022767",
     "exception": false,
     "start_time": "2023-12-15T20:40:30.986161",
     "status": "completed"
    },
    "tags": []
   },
   "source": [
    "<div dir = \"rtl\" style=\"font-face:IranSansX;direction:rtl;line-height:250%;font-size:small;\">\n",
    "\t<font face=\"IranSansX\" size=3>\n",
    "        یک دیکشنری از نام ستون‌ها تشکیل داده و نام هر ستون را به عنوان key و نام هر ستون به صورت Pascal case را به عنوان value آن در نظر بگیرید.(این \n",
    "        دیکشنری در مراحل بعدی مورد استفاده قرار می‌گیرد.)\n",
    "        <br>\n",
    "        </font>\n",
    "        <font face=\"IranSansX\" size=2>\n",
    "        <a href=\"https://stackoverflow.com/questions/17326185/what-are-the-different-kinds-of-cases\">می‌توانید از این لینک برای آشنایی با Case Styleها استفاده کنید.</a>\n",
    "    </font>\n",
    "</div>"
   ]
  },
  {
   "cell_type": "code",
   "execution_count": 19,
   "id": "e63736f3",
   "metadata": {
    "papermill": {
     "duration": 0.054164,
     "end_time": "2023-12-15T20:40:31.116862",
     "exception": false,
     "start_time": "2023-12-15T20:40:31.062698",
     "status": "completed"
    },
    "tags": []
   },
   "outputs": [
    {
     "name": "stdout",
     "output_type": "stream",
     "text": [
      "{'Area': 'Area', 'Room': 'Room', 'Parking': 'Parking', 'Warehouse': 'Warehouse', 'Elevator': 'Elevator', 'Address': 'Address', 'Price': 'Price', 'Price(USD)': 'Price(Usd)'}\n"
     ]
    }
   ],
   "source": [
    "columnDict = {}\n",
    "for column in df.columns:\n",
    "    columnDict[column] = column.title()\n",
    "\n",
    "print(columnDict)"
   ]
  },
  {
   "cell_type": "markdown",
   "id": "ded1b25b",
   "metadata": {
    "papermill": {
     "duration": 0.03839,
     "end_time": "2023-12-15T20:40:31.204142",
     "exception": false,
     "start_time": "2023-12-15T20:40:31.165752",
     "status": "completed"
    },
    "tags": []
   },
   "source": [
    "<div dir = \"rtl\" style=\"font-face:IranSansX;direction:rtl;line-height:250%;font-size:small;\">\n",
    "\t<font face=\"IranSansX\" size=3>\n",
    "        نام ستون‌هایی که طول آن‌ها از 8 کارکتر کمتر است را خروجی دهید.\n",
    "    </font>\n",
    "</div>"
   ]
  },
  {
   "cell_type": "code",
   "execution_count": 20,
   "id": "2fcfb20c",
   "metadata": {
    "papermill": {
     "duration": 0.054022,
     "end_time": "2023-12-15T20:40:31.294085",
     "exception": false,
     "start_time": "2023-12-15T20:40:31.240063",
     "status": "completed"
    },
    "tags": []
   },
   "outputs": [
    {
     "name": "stdout",
     "output_type": "stream",
     "text": [
      "Area\n",
      "Room\n",
      "Parking\n",
      "Address\n",
      "Price\n"
     ]
    }
   ],
   "source": [
    "for key, value in columnDict.items():\n",
    "    if (len(value) < 8): print(key)"
   ]
  },
  {
   "cell_type": "markdown",
   "id": "3750cb09",
   "metadata": {
    "papermill": {
     "duration": 0.036091,
     "end_time": "2023-12-15T20:40:31.376744",
     "exception": false,
     "start_time": "2023-12-15T20:40:31.340653",
     "status": "completed"
    },
    "tags": []
   },
   "source": [
    "<div dir = \"rtl\" style=\"font-face:IranSansX;direction:rtl;line-height:250%;font-size:small;\">\n",
    "\t<font face=\"IranSansX\" size=3>\n",
    "نام تمامی ستون‌ها را به صورت یک رشته‌ که نام هر ستون با کارکتر '-' از دیگری جدا شده، خروجی دهید.    </font>\n",
    "</div>"
   ]
  },
  {
   "cell_type": "code",
   "execution_count": 21,
   "id": "d4310aab",
   "metadata": {
    "papermill": {
     "duration": 0.051981,
     "end_time": "2023-12-15T20:40:31.464804",
     "exception": false,
     "start_time": "2023-12-15T20:40:31.412823",
     "status": "completed"
    },
    "tags": []
   },
   "outputs": [
    {
     "name": "stdout",
     "output_type": "stream",
     "text": [
      "Area-Room-Parking-Warehouse-Elevator-Address-Price-Price(Usd)\n"
     ]
    }
   ],
   "source": [
    "print('-'.join(value for value in columnDict.values()))"
   ]
  },
  {
   "cell_type": "markdown",
   "id": "80618be8",
   "metadata": {
    "papermill": {
     "duration": 0.042678,
     "end_time": "2023-12-15T20:40:31.543483",
     "exception": false,
     "start_time": "2023-12-15T20:40:31.500805",
     "status": "completed"
    },
    "tags": []
   },
   "source": [
    "<div dir = \"rtl\" style=\"font-face:IranSansX;direction:rtl;line-height:250%;font-size:small;\">\n",
    "\t<font face=\"IranSansX\" size=3>\n",
    "با استفاده از دیکشنری ایجاد شده در مراحل قبل، نام ستون‌های دیتافریم را به صورت Pascal case تغییر دهید و در df ذخیره کنید.\n",
    "    </font>\n",
    "</div>"
   ]
  },
  {
   "cell_type": "code",
   "execution_count": 24,
   "id": "d7d3608f",
   "metadata": {
    "papermill": {
     "duration": 0.043654,
     "end_time": "2023-12-15T20:40:31.627221",
     "exception": false,
     "start_time": "2023-12-15T20:40:31.583567",
     "status": "completed"
    },
    "tags": []
   },
   "outputs": [],
   "source": [
    "df.rename(columns=dict(zip(df.columns, columnDict.values())), inplace=True)\n",
    "#print(df.columns)"
   ]
  },
  {
   "cell_type": "markdown",
   "id": "d43fa557",
   "metadata": {
    "papermill": {
     "duration": 0.036189,
     "end_time": "2023-12-15T20:40:31.701137",
     "exception": false,
     "start_time": "2023-12-15T20:40:31.664948",
     "status": "completed"
    },
    "tags": []
   },
   "source": [
    "<div dir = \"rtl\" style=\"font-face:IranSansX;direction:rtl;line-height:250%;font-size:small;\">\n",
    "\t<font face=\"IranSansX\" size=3>\n",
    "        ستون‌های مربوط به قیمت را حذف کرده و دیتافریم حاصل را در متغیری به نام df_without_price ذخیره کنید.\n",
    "    </font>\n",
    "</div>"
   ]
  },
  {
   "cell_type": "code",
   "execution_count": 25,
   "id": "20fd4ed9",
   "metadata": {
    "papermill": {
     "duration": 0.043514,
     "end_time": "2023-12-15T20:40:31.780104",
     "exception": false,
     "start_time": "2023-12-15T20:40:31.73659",
     "status": "completed"
    },
    "tags": []
   },
   "outputs": [],
   "source": [
    "df_without_price = df.drop(['Price', 'Price(Usd)'], axis=1)"
   ]
  },
  {
   "cell_type": "markdown",
   "id": "5f34fd0f",
   "metadata": {
    "papermill": {
     "duration": 0.03552,
     "end_time": "2023-12-15T20:40:31.851937",
     "exception": false,
     "start_time": "2023-12-15T20:40:31.816417",
     "status": "completed"
    },
    "tags": []
   },
   "source": [
    "<div dir = \"rtl\" style=\"font-face:IranSansX;direction:rtl;line-height:250%;font-size:small;\">\n",
    "\t<font face=\"IranSansX\" size=3>\n",
    "        دیتافریم df_without_price را چاپ کنید.\n",
    "    </font>\n",
    "</div>"
   ]
  },
  {
   "cell_type": "code",
   "execution_count": 26,
   "id": "b56c4b51",
   "metadata": {
    "papermill": {
     "duration": 0.044126,
     "end_time": "2023-12-15T20:40:31.931893",
     "exception": false,
     "start_time": "2023-12-15T20:40:31.887767",
     "status": "completed"
    },
    "tags": []
   },
   "outputs": [
    {
     "name": "stdout",
     "output_type": "stream",
     "text": [
      "       Area  Room  Parking  Warehouse  Elevator             Address\n",
      "0      63.0     1        1          1         1             Shahran\n",
      "1      60.0     1        1          1         1             Shahran\n",
      "2      79.0     2        1          1         1              Pardis\n",
      "3      95.0     2        1          1         1       Shahrake Qods\n",
      "4     123.0     2        1          1         1      Shahrake Gharb\n",
      "...     ...   ...      ...        ...       ...                 ...\n",
      "3474   86.0     2        1          1         1  Southern Janatabad\n",
      "3475   83.0     2        1          1         1            Niavaran\n",
      "3476   75.0     2        0          0         0              Parand\n",
      "3477  105.0     2        1          1         1              Dorous\n",
      "3478   82.0     2        0          1         1              Parand\n",
      "\n",
      "[3456 rows x 6 columns]\n"
     ]
    }
   ],
   "source": [
    "print(df_without_price)"
   ]
  },
  {
   "cell_type": "markdown",
   "id": "da493089",
   "metadata": {
    "papermill": {
     "duration": 0.035767,
     "end_time": "2023-12-15T20:40:32.003374",
     "exception": false,
     "start_time": "2023-12-15T20:40:31.967607",
     "status": "completed"
    },
    "tags": []
   },
   "source": [
    "<div dir = \"rtl\" style=\"font-face:IranSansX;direction:rtl;line-height:250%;font-size:small;\">\n",
    "\t<font face=\"IranSansX\" size=3>\n",
    "        ستون‌های Area و Room و Price را در قالب یک دیتافریم جدید خروجی دهید.\n",
    "    </font>\n",
    "</div>"
   ]
  },
  {
   "cell_type": "code",
   "execution_count": 27,
   "id": "d293b6a0",
   "metadata": {
    "papermill": {
     "duration": 0.043784,
     "end_time": "2023-12-15T20:40:32.085321",
     "exception": false,
     "start_time": "2023-12-15T20:40:32.041537",
     "status": "completed"
    },
    "tags": []
   },
   "outputs": [
    {
     "name": "stdout",
     "output_type": "stream",
     "text": [
      "             Price  Room   Area\n",
      "0     1.850000e+09     1   63.0\n",
      "1     1.850000e+09     1   60.0\n",
      "2     5.500000e+08     2   79.0\n",
      "3     9.025000e+08     2   95.0\n",
      "4     7.000000e+09     2  123.0\n",
      "...            ...   ...    ...\n",
      "3474  3.500000e+09     2   86.0\n",
      "3475  6.800000e+09     2   83.0\n",
      "3476  3.650000e+08     2   75.0\n",
      "3477  5.600000e+09     2  105.0\n",
      "3478  3.600000e+08     2   82.0\n",
      "\n",
      "[3456 rows x 3 columns]\n"
     ]
    }
   ],
   "source": [
    "print(df[['Price', 'Room', 'Area']].copy())"
   ]
  },
  {
   "cell_type": "markdown",
   "id": "235e39a4",
   "metadata": {
    "papermill": {
     "duration": 0.03556,
     "end_time": "2023-12-15T20:40:32.156861",
     "exception": false,
     "start_time": "2023-12-15T20:40:32.121301",
     "status": "completed"
    },
    "tags": []
   },
   "source": [
    "<div dir = \"rtl\" style=\"font-face:IranSansX;direction:rtl;line-height:250%;font-size:small;\">\n",
    "\t<font face=\"IranSansX\" size=3>\n",
    "سطرهایی از دیتافریم df که index زوج دارند را در قالب یک دیتافریم خروجی دهید.\n",
    "    </font>\n",
    "</div>"
   ]
  },
  {
   "cell_type": "code",
   "execution_count": 28,
   "id": "40ef9faf",
   "metadata": {
    "papermill": {
     "duration": 0.044955,
     "end_time": "2023-12-15T20:40:32.238104",
     "exception": false,
     "start_time": "2023-12-15T20:40:32.193149",
     "status": "completed"
    },
    "tags": []
   },
   "outputs": [
    {
     "name": "stdout",
     "output_type": "stream",
     "text": [
      "      index   Area  Room  Parking  Warehouse  Elevator         Address  \\\n",
      "0         0   63.0     1        1          1         1         Shahran   \n",
      "2         2   79.0     2        1          1         1          Pardis   \n",
      "4         4  123.0     2        1          1         1  Shahrake Gharb   \n",
      "6         6   87.0     2        1          1         1          Pardis   \n",
      "8         8   54.0     2        1          1         0        Andisheh   \n",
      "...     ...    ...   ...      ...        ...       ...             ...   \n",
      "3446   3469   74.0     2        1          1         1          Mehran   \n",
      "3448   3471   94.0     2        1          1         1        Niavaran   \n",
      "3450   3473   63.0     1        1          1         0     Feiz Garden   \n",
      "3452   3475   83.0     2        1          1         1        Niavaran   \n",
      "3454   3477  105.0     2        1          1         1          Dorous   \n",
      "\n",
      "             Price  Price(Usd)  \n",
      "0     1.850000e+09    61666.67  \n",
      "2     5.500000e+08    18333.33  \n",
      "4     7.000000e+09   233333.33  \n",
      "6     6.000000e+08    20000.00  \n",
      "8     4.930000e+08    16433.33  \n",
      "...            ...         ...  \n",
      "3446  4.070000e+09   135666.67  \n",
      "3448  8.450000e+09   281666.67  \n",
      "3450  1.890000e+09    63000.00  \n",
      "3452  6.800000e+09   226666.67  \n",
      "3454  5.600000e+09   186666.67  \n",
      "\n",
      "[1728 rows x 9 columns]\n"
     ]
    }
   ],
   "source": [
    "print(df.reset_index().iloc[::2])"
   ]
  },
  {
   "cell_type": "markdown",
   "id": "e72541ea",
   "metadata": {
    "papermill": {
     "duration": 0.037428,
     "end_time": "2023-12-15T20:40:32.314362",
     "exception": false,
     "start_time": "2023-12-15T20:40:32.276934",
     "status": "completed"
    },
    "tags": []
   },
   "source": [
    "<div dir = \"rtl\" style=\"font-face:IranSansX;direction:rtl;line-height:250%;font-size:small;\">\n",
    "\t<font face=\"IranSansX\" size=3>\n",
    "        تعداد مقادیر متمایز موجود در هر ستون را در قالب یک دیکشنری با نام دلخواه ذخیره کنید و خروجی دهید.(در دیکشنری key برابر است با نام ستون و value تعداد مقادیر متمایز موجود در آن است.)\n",
    "    </font>\n",
    "</div>"
   ]
  },
  {
   "cell_type": "code",
   "execution_count": 29,
   "id": "8f1092bc",
   "metadata": {
    "papermill": {
     "duration": 0.044397,
     "end_time": "2023-12-15T20:40:32.394782",
     "exception": false,
     "start_time": "2023-12-15T20:40:32.350385",
     "status": "completed"
    },
    "tags": []
   },
   "outputs": [
    {
     "name": "stdout",
     "output_type": "stream",
     "text": [
      "{'Area': 237, 'Room': 6, 'Parking': 2, 'Warehouse': 2, 'Elevator': 2, 'Address': 192, 'Price': 930, 'Price(Usd)': 928}\n"
     ]
    }
   ],
   "source": [
    "distinctValues = {}\n",
    "for column in df.columns:\n",
    "    distinctValues[column] = df[column].nunique()\n",
    "print(distinctValues)"
   ]
  },
  {
   "cell_type": "markdown",
   "id": "0d43fd06",
   "metadata": {
    "papermill": {
     "duration": 0.035443,
     "end_time": "2023-12-15T20:40:32.466198",
     "exception": false,
     "start_time": "2023-12-15T20:40:32.430755",
     "status": "completed"
    },
    "tags": []
   },
   "source": [
    "<div dir = \"rtl\" style=\"font-face:IranSansX;direction:rtl;line-height:250%;font-size:small;\">\n",
    "\t<font face=\"IranSansX\" size=3>\n",
    "        تمامی مقادیر متمایز موجود در ستون Address را در قالب یک لیست خروجی دهید.\n",
    "    </font>\n",
    "</div>"
   ]
  },
  {
   "cell_type": "code",
   "execution_count": 30,
   "id": "9915944c",
   "metadata": {
    "papermill": {
     "duration": 0.044458,
     "end_time": "2023-12-15T20:40:32.546476",
     "exception": false,
     "start_time": "2023-12-15T20:40:32.502018",
     "status": "completed"
    },
    "tags": []
   },
   "outputs": [
    {
     "name": "stdout",
     "output_type": "stream",
     "text": [
      "['Shahran', 'Pardis', 'Shahrake Qods', 'Shahrake Gharb', 'North Program Organization', 'Andisheh', 'West Ferdows Boulevard', 'Narmak', 'Saadat Abad', 'Zafar', 'Islamshahr', 'Pirouzi', 'Shahrake Shahid Bagheri', 'Moniriyeh', 'Velenjak', 'Amirieh', 'Southern Janatabad', 'Salsabil', 'Zargandeh', 'Feiz Garden', 'Water Organization', 'ShahrAra', 'Gisha', 'Ray', 'Abbasabad', 'Ostad Moein', 'Farmanieh', 'Parand', 'Punak', 'Qasr-od-Dasht', 'Aqdasieh', 'Pakdasht', 'Railway', 'Central Janatabad', 'East Ferdows Boulevard', 'Pakdasht KhatunAbad', 'Sattarkhan', 'Baghestan', 'Shahryar', 'Northern Janatabad', 'Daryan No', 'Southern Program Organization', 'Rudhen', 'West Pars', 'Afsarieh', 'Marzdaran', 'Dorous', 'Sadeghieh', 'Chahardangeh', 'Baqershahr', 'Jeyhoon', 'Lavizan', 'Shams Abad', 'Fatemi', 'Keshavarz Boulevard', 'Kahrizak', 'Qarchak', 'Northren Jamalzadeh', 'Azarbaijan', 'Bahar', 'Persian Gulf Martyrs Lake', 'Beryanak', 'Heshmatieh', 'Elm-o-Sanat', 'Golestan', 'Shahr-e-Ziba', 'Pasdaran', 'Chardivari', 'Gheitarieh', 'Kamranieh', 'Gholhak', 'Heravi', 'Hashemi', 'Dehkade Olampic', 'Damavand', 'Republic', 'Zaferanieh', 'Qazvin Imamzadeh Hassan', 'Niavaran', 'Valiasr', 'Qalandari', 'Amir Bahador', 'Ekhtiarieh', 'Ekbatan', 'Absard', 'Haft Tir', 'Mahallati', 'Ozgol', 'Tajrish', 'Abazar', 'Koohsar', 'Hekmat', 'Parastar', 'Lavasan', 'Majidieh', 'Southern Chitgar', 'Karimkhan', 'Si Metri Ji', 'Karoon', 'Northern Chitgar', 'East Pars', 'Kook', 'Air force', 'Sohanak', 'Komeil', 'Azadshahr', 'Zibadasht', 'Amirabad', 'Dezashib', 'Elahieh', 'Mirdamad', 'Razi', 'Jordan', 'Mahmoudieh', 'Shahedshahr', 'Yaftabad', 'Mehran', 'Nasim Shahr', 'Tenant', 'Chardangeh', 'Fallah', 'Eskandari', 'Shahrakeh Naft', 'Ajudaniye', 'Tehransar', 'Nawab', 'Yousef Abad', 'Northern Suhrawardi', 'Villa', 'Hakimiyeh', 'Nezamabad', 'Garden of Saba', 'Tarasht', 'Azari', 'Shahrake Apadana', 'Araj', 'Vahidieh', 'Malard', 'Shahrake Azadi', 'Darband', 'Vanak', 'Tehran Now', 'Darabad', 'Eram', 'Atabak', 'Sabalan', 'SabaShahr', 'Shahrake Madaen', 'Waterfall', 'Ahang', 'Salehabad', 'Pishva', 'Enghelab', 'Islamshahr Elahieh', 'Ray - Montazeri', 'Firoozkooh Kuhsar', 'Ghoba', 'Mehrabad', 'Southern Suhrawardi', 'Abuzar', 'Dolatabad', 'Hor Square', 'Taslihat', 'Kazemabad', 'Robat Karim', 'Ray - Pilgosh', 'Ghiyamdasht', 'Telecommunication', 'Mirza Shirazi', 'Gandhi', 'Argentina', 'Seyed Khandan', 'Shahrake Quds', 'Safadasht', 'Khademabad Garden', 'Hassan Abad', 'Chidz', 'Khavaran', 'Boloorsazi', 'Mehrabad River River', 'Varamin - Beheshti', 'Shoosh', 'Thirteen November', 'Darakeh', 'Aliabad South', 'Alborz Complex', 'Firoozkooh', 'Vahidiyeh', 'Shadabad', 'Naziabad', 'Javadiyeh', 'Yakhchiabad']\n"
     ]
    }
   ],
   "source": [
    "print(df['Address'].unique().tolist())"
   ]
  },
  {
   "cell_type": "markdown",
   "id": "014ebe25",
   "metadata": {
    "papermill": {
     "duration": 0.035813,
     "end_time": "2023-12-15T20:40:32.618789",
     "exception": false,
     "start_time": "2023-12-15T20:40:32.582976",
     "status": "completed"
    },
    "tags": []
   },
   "source": [
    "<div dir = \"rtl\" style=\"font-face:IranSansX;direction:rtl;line-height:250%;font-size:small;\">\n",
    "\t<font face=\"IranSansX\" size=3>\n",
    "یک دیکشنری با نام دلخواه ایجاد کنید که key آن برابر با نام ستون‌های دیتافریم و value آن برابر است با لیستی از مقدار متمایز موجود در آن ستون از دیتافریم.در آخر دیکشنری را چاپ کنید.\n",
    "    </font>\n",
    "</div>"
   ]
  },
  {
   "cell_type": "code",
   "execution_count": 31,
   "id": "51f24083",
   "metadata": {
    "papermill": {
     "duration": 0.043967,
     "end_time": "2023-12-15T20:40:32.699231",
     "exception": false,
     "start_time": "2023-12-15T20:40:32.655264",
     "status": "completed"
    },
    "tags": []
   },
   "outputs": [
    {
     "name": "stdout",
     "output_type": "stream",
     "text": [
      "{'Area': [63.0, 60.0, 79.0, 95.0, 123.0, 70.0, 87.0, 59.0, 54.0, 71.0, 68.0, 64.0, 136.0, 155.0, 140.0, 42.0, 93.0, 65.0, 99.0, 105.0, 160.0, 77.0, 110.0, 100.0, 90.0, 49.0, 96.0, 67.0, 62.0, 55.0, 129.0, 109.0, 58.0, 150.0, 130.0, 88.0, 51.0, 113.0, 98.0, 75.0, 61.0, 72.0, 122.0, 215.0, 101.0, 53.0, 74.0, 114.0, 151.0, 300.0, 76.0, 148.0, 40.0, 128.0, 94.0, 97.0, 137.0, 85.0, 78.0, 48.0, 82.0, 120.0, 139.0, 66.0, 80.0, 44.0, 50.0, 121.0, 141.0, 127.0, 180.0, 158.0, 144.0, 245.0, 190.0, 108.0, 117.0, 200.0, 125.0, 236.0, 220.0, 86.0, 84.0, 106.0, 320.0, 154.0, 210.0, 124.0, 83.0, 270.0, 104.0, 103.0, 165.0, 135.0, 132.0, 81.0, 153.0, 166.0, 175.0, 170.0, 115.0, 118.0, 116.0, 43.0, 230.0, 91.0, 126.0, 450.0, 500.0, 145.0, 112.0, 192.0, 164.0, 265.0, 92.0, 143.0, 350.0, 335.0, 235.0, 225.0, 221.0, 312.0, 188.0, 198.0, 650.0, 179.0, 256.0, 257.0, 167.0, 246.0, 168.0, 280.0, 69.0, 400.0, 660.0, 213.0, 57.0, 102.0, 133.0, 73.0, 134.0, 191.0, 282.0, 89.0, 111.0, 147.0, 157.0, 283.0, nan, 863.0, 415.0, 173.0, 162.0, 156.0, 171.0, 261.0, 45.0, 161.0, 46.0, 107.0, 420.0, 131.0, 185.0, 250.0, 216.0, 680.0, 750.0, 202.0, 138.0, 38.0, 56.0, 197.0, 52.0, 365.0, 181.0, 146.0, 240.0, 142.0, 303.0, 203.0, 204.0, 255.0, 194.0, 600.0, 377.0, 231.0, 195.0, 176.0, 290.0, 149.0, 238.0, 226.0, 574.0, 360.0, 37.0, 465.0, 403.0, 405.0, 41.0, 228.0, 177.0, 310.0, 193.0, 287.0, 929.0, 550.0, 47.0, 380.0, 182.0, 119.0, 705.0, 222.0, 152.0, 209.0, 232.0, 900.0, 201.0, 174.0, 39.0, 172.0, 35.0, 32.0, 211.0, 258.0, 700.0, 163.0, 208.0, 253.0, 33.0, 330.0, 212.0, 345.0, 530.0, 630.0, 30.0, 205.0, 285.0, 186.0], 'Room': [1, 2, 3, 0, 4, 5], 'Parking': [1, 0], 'Warehouse': [1, 0], 'Elevator': [1, 0], 'Address': ['Shahran', 'Pardis', 'Shahrake Qods', 'Shahrake Gharb', 'North Program Organization', 'Andisheh', 'West Ferdows Boulevard', 'Narmak', 'Saadat Abad', 'Zafar', 'Islamshahr', 'Pirouzi', 'Shahrake Shahid Bagheri', 'Moniriyeh', 'Velenjak', 'Amirieh', 'Southern Janatabad', 'Salsabil', 'Zargandeh', 'Feiz Garden', 'Water Organization', 'ShahrAra', 'Gisha', 'Ray', 'Abbasabad', 'Ostad Moein', 'Farmanieh', 'Parand', 'Punak', 'Qasr-od-Dasht', 'Aqdasieh', 'Pakdasht', 'Railway', 'Central Janatabad', 'East Ferdows Boulevard', 'Pakdasht KhatunAbad', 'Sattarkhan', 'Baghestan', 'Shahryar', 'Northern Janatabad', 'Daryan No', 'Southern Program Organization', 'Rudhen', 'West Pars', 'Afsarieh', 'Marzdaran', 'Dorous', 'Sadeghieh', 'Chahardangeh', 'Baqershahr', 'Jeyhoon', 'Lavizan', 'Shams Abad', 'Fatemi', 'Keshavarz Boulevard', 'Kahrizak', 'Qarchak', 'Northren Jamalzadeh', 'Azarbaijan', 'Bahar', 'Persian Gulf Martyrs Lake', 'Beryanak', 'Heshmatieh', 'Elm-o-Sanat', 'Golestan', 'Shahr-e-Ziba', 'Pasdaran', 'Chardivari', 'Gheitarieh', 'Kamranieh', 'Gholhak', 'Heravi', 'Hashemi', 'Dehkade Olampic', 'Damavand', 'Republic', 'Zaferanieh', 'Qazvin Imamzadeh Hassan', 'Niavaran', 'Valiasr', 'Qalandari', 'Amir Bahador', 'Ekhtiarieh', 'Ekbatan', 'Absard', 'Haft Tir', 'Mahallati', 'Ozgol', 'Tajrish', 'Abazar', 'Koohsar', 'Hekmat', 'Parastar', 'Lavasan', 'Majidieh', 'Southern Chitgar', 'Karimkhan', 'Si Metri Ji', 'Karoon', 'Northern Chitgar', 'East Pars', 'Kook', 'Air force', 'Sohanak', 'Komeil', 'Azadshahr', 'Zibadasht', 'Amirabad', 'Dezashib', 'Elahieh', 'Mirdamad', 'Razi', 'Jordan', 'Mahmoudieh', 'Shahedshahr', 'Yaftabad', 'Mehran', 'Nasim Shahr', 'Tenant', 'Chardangeh', 'Fallah', 'Eskandari', 'Shahrakeh Naft', 'Ajudaniye', 'Tehransar', 'Nawab', 'Yousef Abad', 'Northern Suhrawardi', 'Villa', 'Hakimiyeh', 'Nezamabad', 'Garden of Saba', 'Tarasht', 'Azari', 'Shahrake Apadana', 'Araj', 'Vahidieh', 'Malard', 'Shahrake Azadi', 'Darband', 'Vanak', 'Tehran Now', 'Darabad', 'Eram', 'Atabak', 'Sabalan', 'SabaShahr', 'Shahrake Madaen', 'Waterfall', 'Ahang', 'Salehabad', 'Pishva', 'Enghelab', 'Islamshahr Elahieh', 'Ray - Montazeri', 'Firoozkooh Kuhsar', 'Ghoba', 'Mehrabad', 'Southern Suhrawardi', 'Abuzar', 'Dolatabad', 'Hor Square', 'Taslihat', 'Kazemabad', 'Robat Karim', 'Ray - Pilgosh', 'Ghiyamdasht', 'Telecommunication', 'Mirza Shirazi', 'Gandhi', 'Argentina', 'Seyed Khandan', 'Shahrake Quds', 'Safadasht', 'Khademabad Garden', 'Hassan Abad', 'Chidz', 'Khavaran', 'Boloorsazi', 'Mehrabad River River', 'Varamin - Beheshti', 'Shoosh', 'Thirteen November', 'Darakeh', 'Aliabad South', 'Alborz Complex', 'Firoozkooh', 'Vahidiyeh', 'Shadabad', 'Naziabad', 'Javadiyeh', 'Yakhchiabad'], 'Price': [1850000000.0, 550000000.0, 902500000.0, 7000000000.0, 2050000000.0, 600000000.0, 2150000000.0, 493000000.0, 2370000000.0, 2450000000.0, 2100000000.0, 1690000000.0, 11000000000.0, 5000000000.0, 570000000.0, 6700000000.0, 1450000000.0, 6400000000.0, 1390000000.0, 2500000000.0, 1880000000.0, 2277000000.0, 7150000000.0, 14945000000.0, 1771000000.0, 4059000000.0, 630000000.0, 3200000000.0, 1500000000.0, 2200000000.0, 7872000000.0, 2350000000.0, 3750000000.0, 5250000000.0, 4830000000.0, 3400000000.0, 3850000000.0, 1200000000.0, 4750000000.0, 2980000000.0, 2035000000.0, 2460000000.0, 540000000.0, 10000000000.0, 635000000.0, 2030000000.0, 3000000000.0, 7200000000.0, 1750000000.0, 3300000000.0, 2800000000.0, 3500000000.0, 3100000000.0, 1920000000.0, 850000000.0, 1650000000.0, 1700000000.0, 560000000.0, 5500000000.0, 10200000000.0, 1760000000.0, 3730000000.0, 620000000.0, 580000000.0, 3050000000.0, 2000000000.0, 2600000000.0, 5990000000.0, 2300000000.0, 1300000000.0, 2270000000.0, 4000000000.0, 650000000.0, 16900000000.0, 248000000.0, 510000000.0, 6000000000.0, 780000000.0, 410000000.0, 430000000.0, 800000000.0, 545000000.0, 1280000000.0, 11200000000.0, 750000000.0, 3280000000.0, 4800000000.0, 7300000000.0, 3950000000.0, 370000000.0, 1725000000.0, 1419000000.0, 3600000000.0, 1050000000.0, 340000000.0, 3600000.0, 165000000.0, 2860000000.0, 3810000000.0, 1790000000.0, 1530000000.0, 1000000000.0, 1800000000.0, 20000000000.0, 950000000.0, 3700000000.0, 605000000.0, 9900000000.0, 10480000000.0, 7632000000.0, 12300000000.0, 26950000000.0, 24300000000.0, 4700000000.0, 9180000000.0, 1579500000.0, 12000000000.0, 3780000000.0, 8100000000.0, 9100000000.0, 1550000000.0, 1640000000.0, 2750000000.0, 15400000000.0, 350000000.0, 4115000000.0, 8000000000.0, 7500000000.0, 2400000000.0, 1100000000.0, 24000000000.0, 3820000000.0, 5800000000.0, 15750000000.0, 3968000000.0, 1909000000.0, 37800000000.0, 5700000000.0, 10490000000.0, 7400000000.0, 6200000000.0, 21500000000.0, 1886000000.0, 2323000000.0, 6800000000.0, 20700000000.0, 6250000000.0, 1863000000.0, 13000000000.0, 12500000000.0, 17000000000.0, 8500000000.0, 3350000000.0, 27000000000.0, 12600000000.0, 1702000000.0, 700000000.0, 15600000000.0, 15350000000.0, 2810000000.0, 395000000.0, 15100000000.0, 715000000.0, 4260000000.0, 2120000000.0, 590000000.0, 1930000000.0, 2730000000.0, 3150000000.0, 4600000000.0, 4500000000.0, 5100000000.0, 625000000.0, 1620000000.0, 17050000000.0, 17600000000.0, 2250000000.0, 25300000000.0, 11700000000.0, 4400000000.0, 22750000000.0, 4300000000.0, 3380000000.0, 6500000000.0, 3220000000.0, 6240000000.0, 3650000000.0, 15500000000.0, 4200000000.0, 3900000000.0, 6600000000.0, 810000000.0, 3680000000.0, 12670000000.0, 9200000000.0, 5200000000.0, 3550000000.0, 1950000000.0, 2280000000.0, 7800000000.0, 2900000000.0, 1900000000.0, 10500000000.0, 17500000000.0, 2842000000.0, 3120000000.0, 8860000000.0, 4550000000.0, 16580000000.0, 3250000000.0, 52500000000.0, 3450000000.0, 2490000000.0, 8400000000.0, 2020000000.0, 3800000000.0, 5300000000.0, 33500000000.0, 40000000000.0, 19500000000.0, 14800000000.0, 14700000000.0, 22000000000.0, 16450000000.0, 25000000000.0, 45000000000.0, 17672000000.0, 12400000000.0, 27720000000.0, 18700000000.0, 2570000000.0, 16200000000.0, 13800000000.0, 18500000000.0, 5600000000.0, 1890000000.0, 5400000000.0, 1417500000.0, 1585000000.0, 3270000000.0, 2380000000.0, 12800000000.0, 11800000000.0, 875000000.0, 2630000000.0, 9270000000.0, 7700000000.0, 12850000000.0, 4018000000.0, 10688000000.0, 2130000000.0, 4100000000.0, 4520000000.0, 980000000.0, 22500000000.0, 14000000000.0, 38500000000.0, 680000000.0, 5180000000.0, 2580000000.0, 3370000000.0, 6480000000.0, 8900000000.0, 85000000000.0, 55000000000.0, 880000000.0, 9360000000.0, 9840000000.0, 14484000000.0, 55500000000.0, 1270000000.0, 1990000000.0, 1817000000.0, 585000000.0, 990000000.0, 4190000000.0, 4099000000.0, 36500000000.0, 1225000000.0, 3840000000.0, 8600000000.0, 6264000000.0, 2260000000.0, 1633000000.0, 2244000000.0, 1570000000.0, 295000000.0, 3130000000.0, 1960000000.0, 3230000000.0, 690000000.0, 3480000000.0, 35000000000.0, 760000000.0, 2891700000.0, 455000000.0, 1600000000.0, 610000000.0, 1870000000.0, 740000000.0, 18145000000.0, 2093000000.0, 36660000000.0, 30000000000.0, 23100000000.0, 7140000000.0, 2047000000.0, 3990000000.0, 7448000000.0, 2650000000.0, 8200000000.0, 15000000000.0, 2510000000.0, 3570000000.0, 11475000000.0, 1260000000.0, 42000000000.0, 9500000000.0, 32000000000.0, 19000000000.0, 29700000000.0, 3310000000.0, 7830000000.0, 8700000000.0, 19300000000.0, 4650000000.0, 53950000000.0, 8960000000.0, 9515000000.0, 2700000000.0, 5661000000.0, 4240000000.0, 12150000000.0, 11100000000.0, 9000000000.0, 1181100000.0, 1150800000.0, 1012000000.0, 1365000000.0, 10800000000.0, 7600000000.0, 2080000000.0, 22050000000.0, 4140000000.0, 9300000000.0, 795000000.0, 7040000000.0, 9400000000.0, 2024000000.0, 24700000000.0, 2180000000.0, 17200000000.0, 26500000000.0, 670000000.0, 955000000.0, 500000000.0, 7541000000.0, 10700000000.0, 26000000000.0, 1275000000.0, 490000000.0, 4350000000.0, 1978000000.0, 2139000000.0, 1630000000.0, 9800000000.0, 3580000000.0, 2850000000.0, 8350000000.0, 2970000000.0, 460000000.0, 1090000000.0, 1035000000.0, 1245000000.0, 1510000000.0, 16160000000.0, 450000000.0, 2950000000.0, 4590000000.0, 7485000000.0, 11250000000.0, 60000000.0, 11500000000.0, 900000000.0, 6100000000.0, 730000000.0, 23000000000.0, 7950000000.0, 960000000.0, 9450000000.0, 6050000000.0, 7980000000.0, 6300000000.0, 7900000000.0, 3795000000.0, 1109700000.0, 1250000000.0, 1608000000.0, 315000000.0, 2210000000.0, 3170000000.0, 5550000000.0, 5950000000.0, 1574000000.0, 1712000000.0, 4230000000.0, 32500000000.0, 1150000000.0, 2575000000.0, 440000000.0, 81600000000.0, 11600000000.0, 1830000000.0, 514000000.0, 75000000000.0, 3620000000.0, 7474000000.0, 1720000000.0, 8450000000.0, 3160000000.0, 726000000.0, 2870000000.0, 3940000000.0, 15225000000.0, 7550000000.0, 8800000000.0, 940000000.0, 1110000000.0, 1590000000.0, 5544000000.0, 389000000.0, 1484000000.0, 25900000000.0, 1242000000.0, 380000000.0, 995000000.0, 1380000000.0, 565000000.0, 2760000000.0, 2330000000.0, 870000000.0, 1980000000.0, 4170000000.0, 1780000000.0, 1860000000.0, 470000000.0, 2555000000.0, 1970000000.0, 3762000000.0, 13625000000.0, 18715000000.0, 4050000000.0, 4660000000.0, 6625000000.0, 400000000.0, 2240000000.0, 2920000000.0, 520000000.0, 535000000.0, 8990000000.0, 1580000000.0, 4480000000.0, 1875000000.0, 5750000000.0, 6900000000.0, 47450000000.0, 10230000000.0, 5080000000.0, 11375000000.0, 35200000000.0, 16300000000.0, 425000000.0, 7425000000.0, 3670000000.0, 725000000.0, 7100000000.0, 770000000.0, 1507000000.0, 4450000000.0, 1030000000.0, 6890000000.0, 2185000000.0, 1206000000.0, 9750000000.0, 3420000000.0, 8750000000.0, 13500000000.0, 4180000000.0, 8320000000.0, 3410000000.0, 1679000000.0, 2090000000.0, 4130000000.0, 375000000.0, 1420000000.0, 4250000000.0, 18000000000.0, 2930000000.0, 2220000000.0, 36000000000.0, 2170000000.0, 2830000000.0, 2430000000.0, 6560000000.0, 32640000000.0, 2530000000.0, 2113000000.0, 2108000000.0, 12325000000.0, 2385000000.0, 8890000000.0, 3920000000.0, 1400000000.0, 896000000.0, 19845000000.0, 9150000000.0, 6958000000.0, 5616000000.0, 1230000000.0, 890000000.0, 4370000000.0, 9645000000.0, 4850000000.0, 9850000000.0, 1272000000.0, 48000000000.0, 14500000000.0, 790000000.0, 10750000000.0, 2999000000.0, 56000000000.0, 860000000.0, 6670000000.0, 31668000000.0, 11400000000.0, 4150000000.0, 19858000000.0, 705500000.0, 1554000000.0, 5588000000.0, 539000000.0, 3190000000.0, 4900000000.0, 33490000000.0, 13120000000.0, 18400000000.0, 43197000000.0, 1315000000.0, 80500000000.0, 21000000000.0, 17250000000.0, 210000000.0, 16000000000.0, 30800000000.0, 3859000000.0, 37000000000.0, 862500000.0, 5655000000.0, 8642000000.0, 42840000000.0, 4512000000.0, 3360000000.0, 4730000000.0, 6490000000.0, 9238000000.0, 7350000000.0, 14850000000.0, 9350000000.0, 60000000000.0, 38000000000.0, 6660000000.0, 11456000000.0, 46000000000.0, 5650000000.0, 34000000000.0, 34800000000.0, 355000000.0, 2924000000.0, 12650000000.0, 6420000000.0, 2688000000.0, 480000000.0, 3690000000.0, 4225000000.0, 15700000000.0, 910000000.0, 735000000.0, 665000000.0, 14950000000.0, 8300000000.0, 4840000000.0, 1020000000.0, 975000000.0, 1610000000.0, 485000000.0, 250000000.0, 7850000000.0, 2910000000.0, 20292000000.0, 360000000.0, 21700000000.0, 555000000.0, 45500000000.0, 5050000000.0, 920000000.0, 1048000000.0, 46900000000.0, 6760000000.0, 720000000.0, 22100000000.0, 19800000000.0, 3024000000.0, 525000000.0, 3345000000.0, 2550000000.0, 1680000000.0, 14300000000.0, 830000000.0, 365000000.0, 2694000000.0, 57500000000.0, 5580000000.0, 13600000000.0, 21560000000.0, 16800000000.0, 1340000000.0, 1615000000.0, 2480000000.0, 9898000000.0, 3880000000.0, 80000000000.0, 4680000000.0, 3520000000.0, 92400000000.0, 2230000000.0, 6150000000.0, 9860000000.0, 2560000000.0, 50000000000.0, 2990000000.0, 15950000000.0, 1098000000.0, 882000000.0, 12580000000.0, 5405000000.0, 1638000000.0, 9600000000.0, 11060000000.0, 13175000000.0, 8055000000.0, 6120000000.0, 91000000000.0, 16400000000.0, 5555000000.0, 63000000000.0, 345000000.0, 982000000.0, 3060000000.0, 930000000.0, 945000000.0, 3870000000.0, 2190000000.0, 5150000000.0, 2960000000.0, 13300000000.0, 33600000000.0, 4128000000.0, 710000000.0, 1820000000.0, 17280000000.0, 11150000000.0, 1360000000.0, 530000000.0, 640000000.0, 19900000000.0, 6640000000.0, 25500000000.0, 13200000000.0, 13700000000.0, 1318000000.0, 4780000000.0, 13400000000.0, 1320000000.0, 14200000000.0, 2590000000.0, 1730000000.0, 1135200000.0, 1040000000.0, 479000000.0, 496000000.0, 6565000000.0, 475000000.0, 1350000000.0, 765000000.0, 5850000000.0, 3584000000.0, 4870000000.0, 3395000000.0, 12350000000.0, 4725000000.0, 1265000000.0, 3330000000.0, 1062000000.0, 820000000.0, 773000000.0, 9720000000.0, 31000000000.0, 3110000000.0, 10368000000.0, 72000000000.0, 2010000000.0, 1070000000.0, 110000000.0, 1290000000.0, 1220000000.0, 2160000000.0, 1187000000.0, 1210000000.0, 1215000000.0, 1068000000.0, 1440000000.0, 1415000000.0, 1310000000.0, 999000000.0, 417000000.0, 6144000000.0, 6160000000.0, 1540000000.0, 28500000000.0, 1794000000.0, 815000000.0, 4640000000.0, 660000000.0, 385000000.0, 29000000000.0, 2680000000.0, 12825000000.0, 1330000000.0, 901000000.0, 838000000.0, 1078000000.0, 1349550000.0, 840000000.0, 1460000000.0, 755000000.0, 745000000.0, 1140000000.0, 1130000000.0, 1150100000.0, 965000000.0, 15800000000.0, 1430000000.0, 2435000000.0, 9114000000.0, 7990000000.0, 74400000000.0, 33840000000.0, 297000000.0, 1670000000.0, 1375000000.0, 1180000000.0, 420000000.0, 868000000.0, 1370000000.0, 1155000000.0, 1160000000.0, 1312000000.0, 714000000.0, 505000000.0, 20250000000.0, 695000000.0, 3760000000.0, 1874500000.0, 1957300000.0, 2283900000.0, 2071150000.0, 835000000.0, 18750000000.0, 1490000000.0, 2360000000.0, 4826000000.0, 4440000000.0, 6465000000.0, 320000000.0, 411000000.0, 310000000.0, 10600000000.0, 305000000.0, 255000000.0, 275000000.0, 245000000.0, 4125000000.0, 4530000000.0, 7676000000.0, 1410000000.0, 405000000.0, 1520000000.0, 28800000000.0, 1013000000.0, 658000000.0, 2420000000.0, 435000000.0, 10150000000.0, 1204000000.0, 2153000000.0, 2390000000.0, 280000000.0, 1442000000.0, 260000000.0, 330000000.0, 390000000.0, 8250000000.0, 9780000000.0, 2720000000.0, 2310000000.0, 1985000000.0, 1134000000.0, 30360000000.0, 5985000000.0, 6840000000.0, 353000000.0, 70000000000.0, 5280000000.0, 754000000.0, 102000000.0, 33330000000.0, 4085000000.0, 397000000.0, 2115000000.0, 938400000.0, 10640000000.0, 3490000000.0, 1840000000.0, 55000000.0, 300000000.0, 1755000000.0, 1185000000.0, 1113000000.0, 3240000000.0, 2440000000.0, 1120000000.0, 1060000000.0, 46200000000.0, 858500000.0, 806000000.0, 2620000000.0, 3980000000.0, 20900000000.0, 2640000000.0, 5252000000.0, 8475000000.0, 1145000000.0, 218000000.0, 240000000.0, 235000000.0, 6230000000.0, 1745000000.0, 2820000000.0, 17655000000.0, 9970000000.0, 10300000000.0, 1740000000.0, 2975000000.0, 488000000.0, 7770000000.0, 12100000000.0, 6175000000.0, 515000000.0, 79500000000.0, 649000000.0, 18200000000.0, 2340000000.0, 668000000.0, 2880000000.0, 12750000000.0, 2715000000.0, 7630000000.0, 75600000000.0, 1885000000.0, 4070000000.0, 11385000000.0, 4080000000.0, 4950000000.0, 465000000.0, 1792000000.0, 2410000000.0, 421000000.0, 1536000000.0, 1170000000.0, 15200000000.0, 34560000000.0, 3590000000.0, 398000000.0, 28000000000.0, 645000000.0, 682000000.0, 8610000000.0, 2376000000.0, 8660000000.0, 11760000000.0, 1125000000.0, 18150000000.0, 588000000.0, 797500000.0, 290000000.0, 7250000000.0, 6550000000.0, 13950000000.0, 3440000000.0, 708000000.0, 5175000000.0, 15563000000.0, 8150000000.0, 1650000088.0, 22500000003.0, 5830000000.0, 855000000.0, 1470000000.0, 1286500000.0, 8140000000.0, 7597000000.0, 865000000.0, 246000000.0, 313000000.0, 6850000000.0, 7080000000.0, 325000000.0, 595000000.0, 1258000000.0, 4455000000.0], 'Price(Usd)': [61666.67, 18333.33, 30083.33, 233333.33, 68333.33, 20000.0, 71666.67, 16433.33, 79000.0, 81666.67, 70000.0, 56333.33, 366666.67, 166666.67, 19000.0, 223333.33, 48333.33, 213333.33, 46333.33, 83333.33, 62666.67, 75900.0, 238333.33, 498166.67, 59033.33, 135300.0, 21000.0, 106666.67, 50000.0, 73333.33, 262400.0, 78333.33, 125000.0, 175000.0, 161000.0, 113333.33, 128333.33, 40000.0, 158333.33, 99333.33, 67833.33, 82000.0, 18000.0, 333333.33, 21166.67, 67666.67, 100000.0, 240000.0, 58333.33, 110000.0, 93333.33, 116666.67, 103333.33, 64000.0, 28333.33, 55000.0, 56666.67, 18666.67, 183333.33, 340000.0, 58666.67, 124333.33, 20666.67, 19333.33, 101666.67, 66666.67, 86666.67, 199666.67, 76666.67, 43333.33, 75666.67, 133333.33, 21666.67, 563333.33, 8266.67, 17000.0, 200000.0, 26000.0, 13666.67, 14333.33, 26666.67, 18166.67, 42666.67, 373333.33, 25000.0, 109333.33, 160000.0, 243333.33, 131666.67, 12333.33, 57500.0, 47300.0, 120000.0, 35000.0, 11333.33, 120.0, 5500.0, 95333.33, 127000.0, 59666.67, 51000.0, 33333.33, 60000.0, 666666.67, 31666.67, 123333.33, 20166.67, 330000.0, 349333.33, 254400.0, 410000.0, 898333.33, 810000.0, 156666.67, 306000.0, 52650.0, 400000.0, 126000.0, 270000.0, 303333.33, 51666.67, 54666.67, 91666.67, 513333.33, 11666.67, 137166.67, 266666.67, 250000.0, 80000.0, 36666.67, 800000.0, 127333.33, 193333.33, 525000.0, 132266.67, 63633.33, 1260000.0, 190000.0, 349666.67, 246666.67, 206666.67, 716666.67, 62866.67, 77433.33, 226666.67, 690000.0, 208333.33, 62100.0, 433333.33, 416666.67, 566666.67, 283333.33, 111666.67, 900000.0, 420000.0, 56733.33, 23333.33, 520000.0, 511666.67, 93666.67, 13166.67, 503333.33, 23833.33, 142000.0, 70666.67, 19666.67, 64333.33, 91000.0, 105000.0, 153333.33, 150000.0, 170000.0, 20833.33, 54000.0, 568333.33, 586666.67, 75000.0, 843333.33, 390000.0, 146666.67, 758333.33, 143333.33, 112666.67, 216666.67, 107333.33, 208000.0, 121666.67, 516666.67, 140000.0, 130000.0, 220000.0, 27000.0, 122666.67, 422333.33, 306666.67, 173333.33, 118333.33, 65000.0, 76000.0, 260000.0, 96666.67, 63333.33, 350000.0, 583333.33, 94733.33, 104000.0, 295333.33, 151666.67, 552666.67, 108333.33, 1750000.0, 115000.0, 83000.0, 280000.0, 67333.33, 126666.67, 176666.67, 1116666.67, 1333333.33, 650000.0, 493333.33, 490000.0, 733333.33, 548333.33, 833333.33, 1500000.0, 589066.67, 413333.33, 924000.0, 623333.33, 85666.67, 540000.0, 460000.0, 616666.67, 186666.67, 63000.0, 180000.0, 47250.0, 52833.33, 109000.0, 79333.33, 426666.67, 393333.33, 29166.67, 87666.67, 309000.0, 256666.67, 428333.33, 133933.33, 356266.67, 71000.0, 136666.67, 150666.67, 32666.67, 750000.0, 466666.67, 1283333.33, 22666.67, 172666.67, 86000.0, 112333.33, 216000.0, 296666.67, 2833333.33, 1833333.33, 29333.33, 312000.0, 328000.0, 482800.0, 1850000.0, 42333.33, 66333.33, 60566.67, 19500.0, 33000.0, 139666.67, 136633.33, 1216666.67, 40833.33, 128000.0, 286666.67, 208800.0, 75333.33, 54433.33, 74800.0, 52333.33, 9833.33, 104333.33, 65333.33, 107666.67, 23000.0, 116000.0, 1166666.67, 25333.33, 96390.0, 15166.67, 53333.33, 20333.33, 62333.33, 24666.67, 604833.33, 69766.67, 1222000.0, 1000000.0, 770000.0, 238000.0, 68233.33, 133000.0, 248266.67, 88333.33, 273333.33, 500000.0, 83666.67, 119000.0, 382500.0, 42000.0, 1400000.0, 316666.67, 1066666.67, 633333.33, 990000.0, 110333.33, 261000.0, 290000.0, 643333.33, 155000.0, 1798333.33, 298666.67, 317166.67, 90000.0, 188700.0, 141333.33, 405000.0, 370000.0, 300000.0, 39370.0, 38360.0, 33733.33, 45500.0, 360000.0, 253333.33, 69333.33, 735000.0, 138000.0, 310000.0, 26500.0, 234666.67, 313333.33, 67466.67, 823333.33, 72666.67, 573333.33, 883333.33, 22333.33, 31833.33, 16666.67, 251366.67, 356666.67, 866666.67, 42500.0, 16333.33, 145000.0, 65933.33, 71300.0, 54333.33, 326666.67, 119333.33, 95000.0, 278333.33, 99000.0, 15333.33, 36333.33, 34500.0, 41500.0, 50333.33, 538666.67, 15000.0, 98333.33, 153000.0, 249500.0, 375000.0, 2000.0, 383333.33, 30000.0, 203333.33, 24333.33, 766666.67, 265000.0, 32000.0, 315000.0, 201666.67, 266000.0, 210000.0, 263333.33, 126500.0, 36990.0, 41666.67, 53600.0, 10500.0, 73666.67, 105666.67, 185000.0, 198333.33, 52466.67, 57066.67, 141000.0, 1083333.33, 38333.33, 85833.33, 14666.67, 2720000.0, 386666.67, 61000.0, 17133.33, 2500000.0, 120666.67, 249133.33, 57333.33, 281666.67, 105333.33, 24200.0, 95666.67, 131333.33, 507500.0, 251666.67, 293333.33, 31333.33, 37000.0, 53000.0, 184800.0, 12966.67, 49466.67, 863333.33, 41400.0, 12666.67, 33166.67, 46000.0, 18833.33, 92000.0, 77666.67, 29000.0, 66000.0, 139000.0, 59333.33, 62000.0, 15666.67, 85166.67, 65666.67, 125400.0, 454166.67, 623833.33, 135000.0, 155333.33, 220833.33, 13333.33, 74666.67, 97333.33, 17333.33, 17833.33, 299666.67, 52666.67, 149333.33, 62500.0, 191666.67, 230000.0, 1581666.67, 341000.0, 169333.33, 379166.67, 1173333.33, 543333.33, 14166.67, 247500.0, 122333.33, 24166.67, 236666.67, 25666.67, 50233.33, 148333.33, 34333.33, 229666.67, 72833.33, 40200.0, 325000.0, 114000.0, 291666.67, 450000.0, 139333.33, 277333.33, 113666.67, 55966.67, 69666.67, 137666.67, 12500.0, 47333.33, 141666.67, 600000.0, 97666.67, 74000.0, 1200000.0, 72333.33, 94333.33, 81000.0, 218666.67, 1088000.0, 84333.33, 70433.33, 70266.67, 410833.33, 79500.0, 296333.33, 130666.67, 46666.67, 29866.67, 661500.0, 305000.0, 231933.33, 187200.0, 41000.0, 29666.67, 145666.67, 321500.0, 161666.67, 328333.33, 42400.0, 1600000.0, 483333.33, 26333.33, 358333.33, 99966.67, 1866666.67, 28666.67, 222333.33, 1055600.0, 380000.0, 138333.33, 661933.33, 23516.67, 51800.0, 186266.67, 17966.67, 106333.33, 163333.33, 1116333.33, 437333.33, 613333.33, 1439900.0, 43833.33, 2683333.33, 700000.0, 575000.0, 7000.0, 533333.33, 1026666.67, 128633.33, 1233333.33, 28750.0, 188500.0, 288066.67, 1428000.0, 150400.0, 112000.0, 157666.67, 216333.33, 307933.33, 245000.0, 495000.0, 311666.67, 2000000.0, 1266666.67, 222000.0, 381866.67, 1533333.33, 188333.33, 1133333.33, 1160000.0, 11833.33, 97466.67, 421666.67, 214000.0, 89600.0, 16000.0, 123000.0, 140833.33, 523333.33, 30333.33, 24500.0, 22166.67, 498333.33, 276666.67, 161333.33, 34000.0, 32500.0, 53666.67, 16166.67, 8333.33, 261666.67, 97000.0, 676400.0, 12000.0, 723333.33, 18500.0, 1516666.67, 168333.33, 30666.67, 34933.33, 1563333.33, 225333.33, 24000.0, 736666.67, 660000.0, 100800.0, 17500.0, 111500.0, 85000.0, 56000.0, 476666.67, 27666.67, 12166.67, 89800.0, 1916666.67, 186000.0, 453333.33, 718666.67, 560000.0, 44666.67, 53833.33, 82666.67, 329933.33, 129333.33, 2666666.67, 156000.0, 117333.33, 3080000.0, 74333.33, 205000.0, 328666.67, 85333.33, 1666666.67, 99666.67, 531666.67, 36600.0, 29400.0, 419333.33, 180166.67, 54600.0, 320000.0, 368666.67, 439166.67, 268500.0, 204000.0, 3033333.33, 546666.67, 185166.67, 2100000.0, 11500.0, 32733.33, 102000.0, 31000.0, 31500.0, 129000.0, 73000.0, 171666.67, 98666.67, 443333.33, 1120000.0, 137600.0, 23666.67, 60666.67, 576000.0, 371666.67, 45333.33, 17666.67, 21333.33, 663333.33, 221333.33, 850000.0, 440000.0, 456666.67, 43933.33, 159333.33, 446666.67, 44000.0, 473333.33, 86333.33, 57666.67, 37840.0, 34666.67, 15966.67, 16533.33, 218833.33, 15833.33, 45000.0, 25500.0, 195000.0, 119466.67, 162333.33, 113166.67, 411666.67, 157500.0, 42166.67, 111000.0, 35400.0, 27333.33, 25766.67, 324000.0, 1033333.33, 103666.67, 345600.0, 2400000.0, 67000.0, 35666.67, 3666.67, 43000.0, 40666.67, 72000.0, 39566.67, 40333.33, 40500.0, 35600.0, 48000.0, 47166.67, 43666.67, 33300.0, 13900.0, 204800.0, 205333.33, 51333.33, 950000.0, 59800.0, 27166.67, 154666.67, 22000.0, 12833.33, 966666.67, 89333.33, 427500.0, 44333.33, 30033.33, 27933.33, 35933.33, 44985.0, 28000.0, 48666.67, 25166.67, 24833.33, 38000.0, 37666.67, 38336.67, 32166.67, 526666.67, 47666.67, 81166.67, 303800.0, 266333.33, 2480000.0, 1128000.0, 9900.0, 55666.67, 45833.33, 39333.33, 14000.0, 28933.33, 45666.67, 38500.0, 38666.67, 43733.33, 23800.0, 16833.33, 675000.0, 23166.67, 125333.33, 62483.33, 65243.33, 76130.0, 69038.33, 27833.33, 625000.0, 49666.67, 78666.67, 160866.67, 148000.0, 215500.0, 10666.67, 13700.0, 10333.33, 353333.33, 10166.67, 8500.0, 9166.67, 8166.67, 137500.0, 151000.0, 255866.67, 47000.0, 13500.0, 50666.67, 960000.0, 33766.67, 21933.33, 80666.67, 14500.0, 338333.33, 40133.33, 71766.67, 79666.67, 9333.33, 48066.67, 8666.67, 11000.0, 13000.0, 275000.0, 326000.0, 90666.67, 77000.0, 66166.67, 37800.0, 1012000.0, 199500.0, 228000.0, 11766.67, 2333333.33, 176000.0, 25133.33, 3400.0, 1111000.0, 136166.67, 13233.33, 70500.0, 31280.0, 354666.67, 116333.33, 61333.33, 1833.33, 10000.0, 58500.0, 39500.0, 37100.0, 108000.0, 81333.33, 37333.33, 35333.33, 1540000.0, 28616.67, 26866.67, 87333.33, 132666.67, 696666.67, 88000.0, 175066.67, 282500.0, 38166.67, 7266.67, 8000.0, 7833.33, 207666.67, 58166.67, 94000.0, 588500.0, 332333.33, 343333.33, 58000.0, 99166.67, 16266.67, 259000.0, 403333.33, 205833.33, 17166.67, 2650000.0, 21633.33, 606666.67, 78000.0, 22266.67, 96000.0, 425000.0, 90500.0, 254333.33, 2520000.0, 62833.33, 135666.67, 379500.0, 136000.0, 165000.0, 15500.0, 59733.33, 80333.33, 14033.33, 51200.0, 39000.0, 506666.67, 1152000.0, 119666.67, 13266.67, 933333.33, 21500.0, 22733.33, 287000.0, 79200.0, 288666.67, 392000.0, 37500.0, 605000.0, 19600.0, 26583.33, 9666.67, 241666.67, 218333.33, 465000.0, 114666.67, 23600.0, 172500.0, 518766.67, 271666.67, 194333.33, 28500.0, 49000.0, 42883.33, 271333.33, 253233.33, 28833.33, 8200.0, 10433.33, 228333.33, 236000.0, 10833.33, 19833.33, 41933.33, 148500.0]}\n"
     ]
    }
   ],
   "source": [
    "distinctDict = {}\n",
    "for column in df.columns:\n",
    "    distinctDict[column] = df[column].unique().tolist()\n",
    "\n",
    "print(distinctDict)"
   ]
  },
  {
   "cell_type": "markdown",
   "id": "e4f586da",
   "metadata": {
    "papermill": {
     "duration": 0.035876,
     "end_time": "2023-12-15T20:40:32.771395",
     "exception": false,
     "start_time": "2023-12-15T20:40:32.735519",
     "status": "completed"
    },
    "tags": []
   },
   "source": [
    "<div dir = \"rtl\" style=\"font-face:IranSansX;direction:rtl;line-height:250%;font-size:small;\">\n",
    "\t<font face=\"IranSansX\" size=3>\n",
    "        تعداد دفعات تکرار هر مقدار متمایز در ستون Address را مشخص کنید و نتایج را در یک دیکشنری ذخیره کرده و خروجی دهید.(در دیکشنری key برابر با نام مقادیر متمایز ستون Address و value برابر با تعداد دفعات تکرار آن است.)\n",
    "    </font>\n",
    "</div>"
   ]
  },
  {
   "cell_type": "code",
   "execution_count": 33,
   "id": "152d534f",
   "metadata": {
    "papermill": {
     "duration": 0.045737,
     "end_time": "2023-12-15T20:40:32.854135",
     "exception": false,
     "start_time": "2023-12-15T20:40:32.808398",
     "status": "completed"
    },
    "tags": []
   },
   "outputs": [
    {
     "name": "stdout",
     "output_type": "stream",
     "text": [
      "{'Punak': 161, 'Pardis': 146, 'West Ferdows Boulevard': 145, 'Gheitarieh': 141, 'Shahran': 130, 'Saadat Abad': 129, 'Parand': 127, 'Shahr-e-Ziba': 109, 'Southern Janatabad': 93, 'Central Janatabad': 91, 'Jeyhoon': 91, 'Persian Gulf Martyrs Lake': 88, 'Andisheh': 83, 'Ostad Moein': 83, 'East Ferdows Boulevard': 74, 'Shahrake Qods': 69, 'Niavaran': 68, 'Pasdaran': 67, 'Pirouzi': 63, 'Salsabil': 60, 'Shahrake Gharb': 59, 'Farmanieh': 57, 'Heravi': 46, 'Ekhtiarieh': 42, 'Islamshahr': 39, 'Yousef Abad': 38, 'Feiz Garden': 38, 'Northern Janatabad': 33, 'Qasr-od-Dasht': 28, 'North Program Organization': 27, 'Zaferanieh': 27, 'Beryanak': 25, 'Narmak': 25, 'Aqdasieh': 25, 'Pakdasht': 25, 'Azarbaijan': 24, 'Tenant': 23, 'Damavand': 23, 'Southern Program Organization': 23, 'Abazar': 23, 'Si Metri Ji': 23, 'Velenjak': 22, 'Marzdaran': 22, 'Karoon': 20, 'Jordan': 18, 'Elahieh': 17, 'Northern Chitgar': 16, 'Kahrizak': 16, 'Golestan': 16, 'Mirdamad': 15, 'Northren Jamalzadeh': 14, 'Kamranieh': 14, 'Amirabad': 14, 'Dorous': 13, 'Hashemi': 13, 'Shahryar': 13, 'Sattarkhan': 12, 'Amirieh': 12, 'Qazvin Imamzadeh Hassan': 11, 'Qalandari': 11, 'Rudhen': 11, 'West Pars': 11, 'Railway': 11, 'Komeil': 11, 'Air force': 10, 'Zafar': 10, 'Gholhak': 10, 'Ozgol': 10, 'Gisha': 9, 'Dezashib': 9, 'Ray': 9, 'Dehkade Olampic': 9, 'Araj': 9, 'Fallah': 9, 'Kook': 9, 'East Pars': 8, 'Tehransar': 8, 'Parastar': 8, 'Mehran': 8, 'Baghestan': 8, 'Shams Abad': 8, 'Valiasr': 7, 'Tajrish': 7, 'Razi': 7, 'Ekbatan': 7, 'Hor Square': 6, 'Tarasht': 6, 'Afsarieh': 6, 'Sadeghieh': 6, 'Absard': 6, 'Ajudaniye': 5, 'Hakimiyeh': 5, 'Shahedshahr': 5, 'Shahrake Quds': 5, 'Azadshahr': 5, 'ShahrAra': 5, 'Qarchak': 5, 'Southern Chitgar': 5, 'Keshavarz Boulevard': 4, 'Amir Bahador': 4, 'Northern Suhrawardi': 4, 'Tehran Now': 4, 'Water Organization': 4, 'Zargandeh': 4, 'Koohsar': 4, 'Republic': 4, 'Mahallati': 4, 'Lavasan': 4, 'Heshmatieh': 4, 'Eskandari': 4, 'Seyed Khandan': 3, 'Khavaran': 3, 'Waterfall': 3, 'Darabad': 3, 'Abuzar': 3, 'Shahrakeh Naft': 3, 'Atabak': 3, 'Karimkhan': 3, 'Fatemi': 3, 'Yaftabad': 3, 'Mahmoudieh': 3, 'Daryan No': 3, 'Elm-o-Sanat': 3, 'Ghoba': 2, 'Shoosh': 2, 'Sabalan': 2, 'Ahang': 2, 'Shahrake Shahid Bagheri': 2, 'Pishva': 2, 'Chidz': 2, 'Nasim Shahr': 2, 'Moniriyeh': 2, 'Vanak': 2, 'Dolatabad': 2, 'Abbasabad': 2, 'Taslihat': 2, 'Argentina': 2, 'Robat Karim': 2, 'Southern Suhrawardi': 2, 'Lavizan': 2, 'Nezamabad': 2, 'Malard': 2, 'Vahidieh': 2, 'Majidieh': 2, 'Nawab': 2, 'Hekmat': 2, 'Haft Tir': 2, 'Garden of Saba': 2, 'Shahrake Azadi': 2, 'Vahidiyeh': 2, 'Darakeh': 1, 'Gandhi': 1, 'Javadiyeh': 1, 'Naziabad': 1, 'Shadabad': 1, 'Hassan Abad': 1, 'Safadasht': 1, 'Khademabad Garden': 1, 'Firoozkooh': 1, 'Alborz Complex': 1, 'Aliabad South': 1, 'Boloorsazi': 1, 'Mehrabad River River': 1, 'Varamin - Beheshti': 1, 'Thirteen November': 1, 'Telecommunication': 1, 'Mirza Shirazi': 1, 'Firoozkooh Kuhsar': 1, 'Ghiyamdasht': 1, 'Ray - Pilgosh': 1, 'Zibadasht': 1, 'Sohanak': 1, 'Villa': 1, 'Chardivari': 1, 'Azari': 1, 'Shahrake Apadana': 1, 'Bahar': 1, 'Darband': 1, 'Eram': 1, 'Baqershahr': 1, 'SabaShahr': 1, 'Shahrake Madaen': 1, 'Chahardangeh': 1, 'Salehabad': 1, 'Enghelab': 1, 'Islamshahr Elahieh': 1, 'Ray - Montazeri': 1, 'Chardangeh': 1, 'Mehrabad': 1, 'Pakdasht KhatunAbad': 1, 'Kazemabad': 1, 'Yakhchiabad': 1}\n"
     ]
    }
   ],
   "source": [
    "repeatAddressNum = df['Address'].value_counts().to_dict()\n",
    "\n",
    "print(repeatAddressNum)"
   ]
  },
  {
   "cell_type": "markdown",
   "id": "2406e134",
   "metadata": {
    "papermill": {
     "duration": 0.036403,
     "end_time": "2023-12-15T20:40:32.927403",
     "exception": false,
     "start_time": "2023-12-15T20:40:32.891",
     "status": "completed"
    },
    "tags": []
   },
   "source": [
    "<div dir = \"rtl\" style=\"font-face:IranSansX;direction:rtl;line-height:250%;font-size:small;\">\n",
    "\t<font face=\"IranSansX\" size=3>\n",
    "        ماکزیمم، مینیمم و طول بازه‌ی تغییرات مقادیر ستون‌هایی که متغیر آن‌ها عددی است را چاپ کنید.\n",
    "    </font>\n",
    "</div>"
   ]
  },
  {
   "cell_type": "code",
   "execution_count": 34,
   "id": "c7d6ac2a",
   "metadata": {
    "papermill": {
     "duration": 0.044263,
     "end_time": "2023-12-15T20:40:33.00974",
     "exception": false,
     "start_time": "2023-12-15T20:40:32.965477",
     "status": "completed"
    },
    "tags": []
   },
   "outputs": [
    {
     "name": "stdout",
     "output_type": "stream",
     "text": [
      "Area          9.290000e+02\n",
      "Room          5.000000e+00\n",
      "Parking       1.000000e+00\n",
      "Warehouse     1.000000e+00\n",
      "Elevator      1.000000e+00\n",
      "Price         9.240000e+10\n",
      "Price(Usd)    3.080000e+06\n",
      "dtype: float64\n",
      "Area               30.0\n",
      "Room                0.0\n",
      "Parking             0.0\n",
      "Warehouse           0.0\n",
      "Elevator            0.0\n",
      "Price         3600000.0\n",
      "Price(Usd)        120.0\n",
      "dtype: float64\n",
      "Area          8.990000e+02\n",
      "Room          5.000000e+00\n",
      "Parking       1.000000e+00\n",
      "Warehouse     1.000000e+00\n",
      "Elevator      1.000000e+00\n",
      "Price         9.239640e+10\n",
      "Price(Usd)    3.079880e+06\n",
      "dtype: float64\n"
     ]
    }
   ],
   "source": [
    "numColumns = df.select_dtypes(include=['number'])\n",
    "print(numColumns.max())\n",
    "print(numColumns.min())\n",
    "print(numColumns.max() - numColumns.min())"
   ]
  },
  {
   "cell_type": "markdown",
   "id": "fd1889da",
   "metadata": {
    "papermill": {
     "duration": 0.036148,
     "end_time": "2023-12-15T20:40:33.08369",
     "exception": false,
     "start_time": "2023-12-15T20:40:33.047542",
     "status": "completed"
    },
    "tags": []
   },
   "source": [
    "<div dir = \"rtl\" style=\"font-face:IranSansX;direction:rtl;line-height:250%;font-size:small;\">\n",
    "\t<font face=\"IranSansX\" size=3>\n",
    "        سطرهایی که مقدار Area آن‌ها از چارک اول مقادیر ستون Area کمتر است را در یک دیتافریم جدید با نام دلخواه ذخیره کرده و خروجی دهید.\n",
    "    </font>\n",
    "</div>"
   ]
  },
  {
   "cell_type": "code",
   "execution_count": 35,
   "id": "d1b20221",
   "metadata": {
    "papermill": {
     "duration": 0.044622,
     "end_time": "2023-12-15T20:40:33.164746",
     "exception": false,
     "start_time": "2023-12-15T20:40:33.120124",
     "status": "completed"
    },
    "tags": []
   },
   "outputs": [
    {
     "name": "stdout",
     "output_type": "stream",
     "text": [
      "      Area  Room  Parking  Warehouse  Elevator                 Address  \\\n",
      "0     63.0     1        1          1         1                 Shahran   \n",
      "1     60.0     1        1          1         1                 Shahran   \n",
      "7     59.0     1        1          1         1                 Shahran   \n",
      "8     54.0     2        1          1         0                Andisheh   \n",
      "10    68.0     2        1          1         1  West Ferdows Boulevard   \n",
      "...    ...   ...      ...        ...       ...                     ...   \n",
      "3461  55.0     1        1          1         1                   Punak   \n",
      "3462  60.0     1        1          1         1  West Ferdows Boulevard   \n",
      "3465  68.0     2        0          1         1                Beryanak   \n",
      "3466  61.0     2        0          1         0                Andisheh   \n",
      "3473  63.0     1        1          1         0             Feiz Garden   \n",
      "\n",
      "             Price  Price(Usd)  \n",
      "0     1.850000e+09    61666.67  \n",
      "1     1.850000e+09    61666.67  \n",
      "7     2.150000e+09    71666.67  \n",
      "8     4.930000e+08    16433.33  \n",
      "10    2.450000e+09    81666.67  \n",
      "...            ...         ...  \n",
      "3461  2.300000e+09    76666.67  \n",
      "3462  1.950000e+09    65000.00  \n",
      "3465  1.258000e+09    41933.33  \n",
      "3466  4.600000e+08    15333.33  \n",
      "3473  1.890000e+09    63000.00  \n",
      "\n",
      "[861 rows x 8 columns]\n"
     ]
    }
   ],
   "source": [
    "newDf = df[df['Area'] < df['Area'].quantile(0.25)]\n",
    "print(newDf)"
   ]
  },
  {
   "cell_type": "markdown",
   "id": "905e8e09",
   "metadata": {
    "papermill": {
     "duration": 0.036001,
     "end_time": "2023-12-15T20:40:33.237271",
     "exception": false,
     "start_time": "2023-12-15T20:40:33.20127",
     "status": "completed"
    },
    "tags": []
   },
   "source": [
    "<div dir = \"rtl\" style=\"font-face:IranSansX;direction:rtl;line-height:250%;font-size:small;\">\n",
    "\t<font face=\"IranSansX\" size=3>\n",
    "        همانند قسمت قبل، آن سطرهایی که Area آن‌ها از چارک اول کمتر است را شناسایی کرده و فقط مقادیر ستون‌های Area، Room و Price خروجی دهید.\n",
    "    </font>\n",
    "</div>"
   ]
  },
  {
   "cell_type": "code",
   "execution_count": 36,
   "id": "995a348f",
   "metadata": {
    "papermill": {
     "duration": 0.045135,
     "end_time": "2023-12-15T20:40:33.319425",
     "exception": false,
     "start_time": "2023-12-15T20:40:33.27429",
     "status": "completed"
    },
    "tags": []
   },
   "outputs": [
    {
     "name": "stdout",
     "output_type": "stream",
     "text": [
      "      Area  Room         Price\n",
      "0     63.0     1  1.850000e+09\n",
      "1     60.0     1  1.850000e+09\n",
      "7     59.0     1  2.150000e+09\n",
      "8     54.0     2  4.930000e+08\n",
      "10    68.0     2  2.450000e+09\n",
      "...    ...   ...           ...\n",
      "3461  55.0     1  2.300000e+09\n",
      "3462  60.0     1  1.950000e+09\n",
      "3465  68.0     2  1.258000e+09\n",
      "3466  61.0     2  4.600000e+08\n",
      "3473  63.0     1  1.890000e+09\n",
      "\n",
      "[861 rows x 3 columns]\n"
     ]
    }
   ],
   "source": [
    "print(newDf[['Area', 'Room', 'Price']])"
   ]
  },
  {
   "cell_type": "markdown",
   "id": "753444d3",
   "metadata": {
    "papermill": {
     "duration": 0.036472,
     "end_time": "2023-12-15T20:40:33.392698",
     "exception": false,
     "start_time": "2023-12-15T20:40:33.356226",
     "status": "completed"
    },
    "tags": []
   },
   "source": [
    "<div dir = \"rtl\" style=\"font-face:IranSansX;direction:rtl;line-height:250%;font-size:small;\">\n",
    "\t<font face=\"IranSansX\" size=3>\n",
    "        دیتافریم اولیه را برحسب ستون قیمت sort کنید و آن را در متغیری به نام df_sorted_by_price ذخیره کنید و در آخر خروجی دهید.\n",
    "    </font>\n",
    "</div>"
   ]
  },
  {
   "cell_type": "code",
   "execution_count": 37,
   "id": "b3800985",
   "metadata": {
    "papermill": {
     "duration": 0.045362,
     "end_time": "2023-12-15T20:40:33.47539",
     "exception": false,
     "start_time": "2023-12-15T20:40:33.430028",
     "status": "completed"
    },
    "tags": []
   },
   "outputs": [
    {
     "name": "stdout",
     "output_type": "stream",
     "text": [
      "       Area  Room  Parking  Warehouse  Elevator     Address         Price  \\\n",
      "136   160.0     1        0          0         0     Qarchak  3.600000e+06   \n",
      "2770   83.0     2        1          1         1       Ozgol  5.500000e+07   \n",
      "731    75.0     2        1          1         1      Pardis  6.000000e+07   \n",
      "2721  110.0     0        1          1         1      Parand  1.020000e+08   \n",
      "2201   49.0     1        1          1         0    Andisheh  1.100000e+08   \n",
      "...     ...   ...      ...        ...       ...         ...           ...   \n",
      "1332  350.0     4        1          1         1    Niavaran  8.050000e+10   \n",
      "819   680.0     5        1          1         0  Ekhtiarieh  8.160000e+10   \n",
      "430   400.0     5        1          1         0     Lavasan  8.500000e+10   \n",
      "1810  705.0     5        1          1         0      Abazar  9.100000e+10   \n",
      "1707  420.0     4        1          1         1  Zaferanieh  9.240000e+10   \n",
      "\n",
      "      Price(Usd)  \n",
      "136       120.00  \n",
      "2770     1833.33  \n",
      "731      2000.00  \n",
      "2721     3400.00  \n",
      "2201     3666.67  \n",
      "...          ...  \n",
      "1332  2683333.33  \n",
      "819   2720000.00  \n",
      "430   2833333.33  \n",
      "1810  3033333.33  \n",
      "1707  3080000.00  \n",
      "\n",
      "[3456 rows x 8 columns]\n"
     ]
    }
   ],
   "source": [
    "df_sorted_by_price = df.sort_values(by='Price')\n",
    "print(df_sorted_by_price)"
   ]
  },
  {
   "cell_type": "markdown",
   "id": "12971447",
   "metadata": {
    "papermill": {
     "duration": 0.036404,
     "end_time": "2023-12-15T20:40:33.54818",
     "exception": false,
     "start_time": "2023-12-15T20:40:33.511776",
     "status": "completed"
    },
    "tags": []
   },
   "source": [
    "<div dir = \"rtl\" style=\"font-face:IranSansX;direction:rtl;line-height:250%;font-size:small;\">\n",
    "\t<font face=\"IranSansX\" size=3>\n",
    "دیتافریم df_sorted_by_price را به صورت معکوس خروجی دهید.(از آخر به اول)    </font>\n",
    "</div>"
   ]
  },
  {
   "cell_type": "code",
   "execution_count": 38,
   "id": "685be706",
   "metadata": {
    "papermill": {
     "duration": 0.04418,
     "end_time": "2023-12-15T20:40:33.633735",
     "exception": false,
     "start_time": "2023-12-15T20:40:33.589555",
     "status": "completed"
    },
    "tags": []
   },
   "outputs": [
    {
     "name": "stdout",
     "output_type": "stream",
     "text": [
      "       Area  Room  Parking  Warehouse  Elevator     Address         Price  \\\n",
      "1707  420.0     4        1          1         1  Zaferanieh  9.240000e+10   \n",
      "1810  705.0     5        1          1         0      Abazar  9.100000e+10   \n",
      "430   400.0     5        1          1         0     Lavasan  8.500000e+10   \n",
      "819   680.0     5        1          1         0  Ekhtiarieh  8.160000e+10   \n",
      "1332  350.0     4        1          1         1    Niavaran  8.050000e+10   \n",
      "...     ...   ...      ...        ...       ...         ...           ...   \n",
      "2201   49.0     1        1          1         0    Andisheh  1.100000e+08   \n",
      "2721  110.0     0        1          1         1      Parand  1.020000e+08   \n",
      "731    75.0     2        1          1         1      Pardis  6.000000e+07   \n",
      "2770   83.0     2        1          1         1       Ozgol  5.500000e+07   \n",
      "136   160.0     1        0          0         0     Qarchak  3.600000e+06   \n",
      "\n",
      "      Price(Usd)  \n",
      "1707  3080000.00  \n",
      "1810  3033333.33  \n",
      "430   2833333.33  \n",
      "819   2720000.00  \n",
      "1332  2683333.33  \n",
      "...          ...  \n",
      "2201     3666.67  \n",
      "2721     3400.00  \n",
      "731      2000.00  \n",
      "2770     1833.33  \n",
      "136       120.00  \n",
      "\n",
      "[3456 rows x 8 columns]\n"
     ]
    }
   ],
   "source": [
    "print(df_sorted_by_price.iloc[::-1])"
   ]
  },
  {
   "cell_type": "markdown",
   "id": "531e30bd",
   "metadata": {
    "papermill": {
     "duration": 0.036126,
     "end_time": "2023-12-15T20:40:33.706356",
     "exception": false,
     "start_time": "2023-12-15T20:40:33.67023",
     "status": "completed"
    },
    "tags": []
   },
   "source": [
    "<div dir = \"rtl\" style=\"font-face:IranSansX;direction:rtl;line-height:250%;font-size:small;\">\n",
    "\t<font face=\"IranSansX\" size=3>\n",
    "        سطرهایی که مقدار ستون Elevator برای آن‌ها True است را برحسب قیمت sort کنید و خروجی دهید.\n",
    "    </font>\n",
    "</div>"
   ]
  },
  {
   "cell_type": "code",
   "execution_count": 44,
   "id": "fc9f58ae",
   "metadata": {
    "papermill": {
     "duration": 0.04444,
     "end_time": "2023-12-15T20:40:33.787147",
     "exception": false,
     "start_time": "2023-12-15T20:40:33.742707",
     "status": "completed"
    },
    "tags": []
   },
   "outputs": [
    {
     "name": "stdout",
     "output_type": "stream",
     "text": [
      "       Area  Room  Parking  Warehouse  Elevator     Address         Price  \\\n",
      "2770   83.0     2        1          1         1       Ozgol  5.500000e+07   \n",
      "731    75.0     2        1          1         1      Pardis  6.000000e+07   \n",
      "2721  110.0     0        1          1         1      Parand  1.020000e+08   \n",
      "1343   78.0     2        1          1         1      Parand  2.100000e+08   \n",
      "3432   58.0     1        0          0         1      Parand  2.460000e+08   \n",
      "...     ...   ...      ...        ...       ...         ...           ...   \n",
      "2394  310.0     3        1          1         1    Aqdasieh  7.440000e+10   \n",
      "831   750.0     5        1          1         1  Mahmoudieh  7.500000e+10   \n",
      "3051  530.0     4        1          1         1      Dorous  7.950000e+10   \n",
      "1332  350.0     4        1          1         1    Niavaran  8.050000e+10   \n",
      "1707  420.0     4        1          1         1  Zaferanieh  9.240000e+10   \n",
      "\n",
      "      Price(Usd)  \n",
      "2770     1833.33  \n",
      "731      2000.00  \n",
      "2721     3400.00  \n",
      "1343     7000.00  \n",
      "3432     8200.00  \n",
      "...          ...  \n",
      "2394  2480000.00  \n",
      "831   2500000.00  \n",
      "3051  2650000.00  \n",
      "1332  2683333.33  \n",
      "1707  3080000.00  \n",
      "\n",
      "[2721 rows x 8 columns]\n"
     ]
    }
   ],
   "source": [
    "print(df[df['Elevator'] == True].sort_values(by='Price'))"
   ]
  },
  {
   "cell_type": "markdown",
   "id": "c10dc434",
   "metadata": {
    "papermill": {
     "duration": 0.035981,
     "end_time": "2023-12-15T20:40:33.860179",
     "exception": false,
     "start_time": "2023-12-15T20:40:33.824198",
     "status": "completed"
    },
    "tags": []
   },
   "source": [
    "<div dir = \"rtl\" style=\"font-face:IranSansX;direction:rtl;line-height:250%;font-size:small;\">\n",
    "\t<font face=\"IranSansX\" size=3>\n",
    "        دیتافریم را برحسب Address گروه‌بندی کنید، سپس جمع Area خانه‌های هر گروه را محاسبه و خروجی دهید.\n",
    "    </font>\n",
    "</div>"
   ]
  },
  {
   "cell_type": "code",
   "execution_count": 39,
   "id": "40c2bebb",
   "metadata": {
    "papermill": {
     "duration": 0.044435,
     "end_time": "2023-12-15T20:40:33.941244",
     "exception": false,
     "start_time": "2023-12-15T20:40:33.896809",
     "status": "completed"
    },
    "tags": []
   },
   "outputs": [
    {
     "name": "stdout",
     "output_type": "stream",
     "text": [
      "Address\n",
      "Abazar         2885.0\n",
      "Abbasabad       150.0\n",
      "Absard         3100.0\n",
      "Abuzar          184.0\n",
      "Afsarieh        491.0\n",
      "                ...  \n",
      "Yousef Abad    4437.0\n",
      "Zafar          1879.0\n",
      "Zaferanieh     5293.0\n",
      "Zargandeh       485.0\n",
      "Zibadasht       115.0\n",
      "Name: Area, Length: 192, dtype: float64\n"
     ]
    }
   ],
   "source": [
    "print(df.groupby('Address')['Area'].sum())"
   ]
  },
  {
   "cell_type": "markdown",
   "id": "ac9900c4",
   "metadata": {
    "papermill": {
     "duration": 0.036495,
     "end_time": "2023-12-15T20:40:34.014445",
     "exception": false,
     "start_time": "2023-12-15T20:40:33.97795",
     "status": "completed"
    },
    "tags": []
   },
   "source": [
    "<div dir = \"rtl\" style=\"font-face:IranSansX;direction:rtl;line-height:250%;font-size:small;\">\n",
    "\t<font face=\"IranSansX\" size=3>\n",
    "        دیتافریم را برحسب Address گروه‌بندی کنید، سپس میانگین Area خانه‌های هر گروه را با استفاده از Aggregate کردن گروه‌ها با تابع mean بیابید، سپس مقادیر بدست آمده را در یک دیتافریم جدید ذخیره کرده و خروجی دهید.\n",
    "    </font>\n",
    "</div>"
   ]
  },
  {
   "cell_type": "code",
   "execution_count": 40,
   "id": "1636f98e",
   "metadata": {
    "papermill": {
     "duration": 0.045076,
     "end_time": "2023-12-15T20:40:34.097541",
     "exception": false,
     "start_time": "2023-12-15T20:40:34.052465",
     "status": "completed"
    },
    "tags": []
   },
   "outputs": [
    {
     "name": "stdout",
     "output_type": "stream",
     "text": [
      "         Address        Area\n",
      "0         Abazar  125.434783\n",
      "1      Abbasabad   75.000000\n",
      "2         Absard  516.666667\n",
      "3         Abuzar   61.333333\n",
      "4       Afsarieh   81.833333\n",
      "..           ...         ...\n",
      "187  Yousef Abad  116.763158\n",
      "188        Zafar  187.900000\n",
      "189   Zaferanieh  196.037037\n",
      "190    Zargandeh  121.250000\n",
      "191    Zibadasht  115.000000\n",
      "\n",
      "[192 rows x 2 columns]\n"
     ]
    }
   ],
   "source": [
    "newGroupedDf = df.groupby('Address').agg({'Area': 'mean'}).reset_index()\n",
    "print(newGroupedDf)"
   ]
  },
  {
   "cell_type": "markdown",
   "id": "7e1f7705",
   "metadata": {
    "papermill": {
     "duration": 0.036906,
     "end_time": "2023-12-15T20:40:34.171381",
     "exception": false,
     "start_time": "2023-12-15T20:40:34.134475",
     "status": "completed"
    },
    "tags": []
   },
   "source": [
    "<div dir = \"rtl\" style=\"font-face:IranSansX;direction:rtl;line-height:250%;font-size:small;\">\n",
    "\t<font face=\"IranSansX\" size=3>\n",
    "        یک crosstab برحسب Room و Parking رسم کنید.\n",
    "    </font>\n",
    "</div>"
   ]
  },
  {
   "cell_type": "code",
   "execution_count": 41,
   "id": "2fd18fa7",
   "metadata": {
    "papermill": {
     "duration": 0.045038,
     "end_time": "2023-12-15T20:40:34.253537",
     "exception": false,
     "start_time": "2023-12-15T20:40:34.208499",
     "status": "completed"
    },
    "tags": []
   },
   "outputs": [
    {
     "name": "stdout",
     "output_type": "stream",
     "text": [
      "Parking    0     1\n",
      "Room              \n",
      "0          8     2\n",
      "1        243   426\n",
      "2        244  1699\n",
      "3         26   705\n",
      "4          1    69\n",
      "5          5    28\n"
     ]
    }
   ],
   "source": [
    "print(pd.crosstab(df['Room'], df['Parking']))"
   ]
  },
  {
   "cell_type": "markdown",
   "id": "eae6c1bf",
   "metadata": {
    "papermill": {
     "duration": 0.036667,
     "end_time": "2023-12-15T20:40:34.327725",
     "exception": false,
     "start_time": "2023-12-15T20:40:34.291058",
     "status": "completed"
    },
    "tags": []
   },
   "source": [
    "<div dir = \"rtl\" style=\"font-face:IranSansX;direction:rtl;line-height:250%;font-size:small;\">\n",
    "\t<font face=\"IranSansX\" size=3>\n",
    "یک crosstab برحسب Room و Warehouse رسم کنید.    </font>\n",
    "</div>"
   ]
  },
  {
   "cell_type": "code",
   "execution_count": 42,
   "id": "17135c34",
   "metadata": {
    "papermill": {
     "duration": 0.044905,
     "end_time": "2023-12-15T20:40:34.410204",
     "exception": false,
     "start_time": "2023-12-15T20:40:34.365299",
     "status": "completed"
    },
    "tags": []
   },
   "outputs": [
    {
     "name": "stdout",
     "output_type": "stream",
     "text": [
      "Warehouse    0     1\n",
      "Room                \n",
      "0            5     5\n",
      "1          109   560\n",
      "2          149  1794\n",
      "3           21   710\n",
      "4            3    67\n",
      "5            7    26\n"
     ]
    }
   ],
   "source": [
    "print(pd.crosstab(df['Room'], df['Warehouse']))"
   ]
  },
  {
   "cell_type": "markdown",
   "id": "e0c82316",
   "metadata": {
    "papermill": {
     "duration": 0.036371,
     "end_time": "2023-12-15T20:40:34.483262",
     "exception": false,
     "start_time": "2023-12-15T20:40:34.446891",
     "status": "completed"
    },
    "tags": []
   },
   "source": [
    "<div dir = \"rtl\" style=\"font-face:IranSansX;direction:rtl;line-height:250%;font-size:small;\">\n",
    "\t<font face=\"IranSansX\" size=3>\n",
    "        یک crosstab برحسب Room و Elevator رسم کنید.\n",
    "    </font>\n",
    "</div>"
   ]
  },
  {
   "cell_type": "code",
   "execution_count": 43,
   "id": "163f70c8",
   "metadata": {
    "papermill": {
     "duration": 0.045055,
     "end_time": "2023-12-15T20:40:34.565039",
     "exception": false,
     "start_time": "2023-12-15T20:40:34.519984",
     "status": "completed"
    },
    "tags": []
   },
   "outputs": [
    {
     "name": "stdout",
     "output_type": "stream",
     "text": [
      "Elevator    0     1\n",
      "Room               \n",
      "0           8     2\n",
      "1         282   387\n",
      "2         352  1591\n",
      "3          49   682\n",
      "4          17    53\n",
      "5          27     6\n"
     ]
    }
   ],
   "source": [
    "print(pd.crosstab(df['Room'], df['Elevator']))"
   ]
  },
  {
   "cell_type": "markdown",
   "id": "7978623c",
   "metadata": {
    "papermill": {
     "duration": 0.03654,
     "end_time": "2023-12-15T20:40:34.638441",
     "exception": false,
     "start_time": "2023-12-15T20:40:34.601901",
     "status": "completed"
    },
    "tags": []
   },
   "source": [
    "<div dir = \"rtl\" style=\"font-face:IranSansX;direction:rtl;line-height:250%;font-size:small;\">\n",
    "\t<font face=\"IranSansX\" size=3>\n",
    "        نشان دهید خانه‌هایی که 0 اتاق، 1 اتاق،....، 5اتاق دارند، به طور میانگین چه قیمتی دارند.\n",
    "    </font>\n",
    "</div>"
   ]
  },
  {
   "cell_type": "code",
   "execution_count": 44,
   "id": "46899235",
   "metadata": {
    "papermill": {
     "duration": 0.044617,
     "end_time": "2023-12-15T20:40:34.720205",
     "exception": false,
     "start_time": "2023-12-15T20:40:34.675588",
     "status": "completed"
    },
    "tags": []
   },
   "outputs": [
    {
     "name": "stdout",
     "output_type": "stream",
     "text": [
      "Room\n",
      "0    7.860500e+09\n",
      "1    1.707481e+09\n",
      "2    3.330303e+09\n",
      "3    1.093869e+10\n",
      "4    2.560033e+10\n",
      "5    3.373439e+10\n",
      "Name: Price, dtype: float64\n"
     ]
    }
   ],
   "source": [
    "print(df.groupby('Room')['Price'].mean())"
   ]
  },
  {
   "cell_type": "markdown",
   "id": "1aebf5a0",
   "metadata": {
    "papermill": {
     "duration": 0.036805,
     "end_time": "2023-12-15T20:40:34.794021",
     "exception": false,
     "start_time": "2023-12-15T20:40:34.757216",
     "status": "completed"
    },
    "tags": []
   },
   "source": [
    "<div dir = \"rtl\" style=\"font-face:IranSansX;direction:rtl;line-height:250%;font-size:small;\">\n",
    "\t<font face=\"IranSansX\" size=3>\n",
    "دیتافریم را برحسب Room و Parking گروه‌بندی کرده و میانگین قیمت هرکدام را حساب کنید.(ترجیحاً با استفاده از Aggregate کردن این کار را انجام دهید.)\n",
    "    </font>\n",
    "</div>"
   ]
  },
  {
   "cell_type": "code",
   "execution_count": 45,
   "id": "2834c454",
   "metadata": {
    "papermill": {
     "duration": 0.045136,
     "end_time": "2023-12-15T20:40:34.876899",
     "exception": false,
     "start_time": "2023-12-15T20:40:34.831763",
     "status": "completed"
    },
    "tags": []
   },
   "outputs": [
    {
     "name": "stdout",
     "output_type": "stream",
     "text": [
      "                     Price\n",
      "Room Parking              \n",
      "0    0        9.769750e+09\n",
      "     1        2.235000e+08\n",
      "1    0        1.139678e+09\n",
      "     1        2.031369e+09\n",
      "2    0        1.501674e+09\n",
      "     1        3.592920e+09\n",
      "3    0        5.107865e+09\n",
      "     1        1.115373e+10\n",
      "4    0        6.200000e+09\n",
      "     1        2.588149e+10\n",
      "5    0        9.999000e+09\n",
      "     1        3.797286e+10\n"
     ]
    }
   ],
   "source": [
    "print(df.groupby(['Room', 'Parking']).agg({'Price': 'mean'}))"
   ]
  },
  {
   "cell_type": "markdown",
   "id": "c0697ec6",
   "metadata": {
    "papermill": {
     "duration": 0.036673,
     "end_time": "2023-12-15T20:40:34.950491",
     "exception": false,
     "start_time": "2023-12-15T20:40:34.913818",
     "status": "completed"
    },
    "tags": []
   },
   "source": [
    "<div dir = \"rtl\" style=\"font-face:IranSansX;direction:rtl;line-height:250%;font-size:small;\">\n",
    "\t<font face=\"IranSansX\" size=3>\n",
    "یک ستون جدید به نام Score به دیتافریم اصلی اضافه کنید، به طوری که مقدار آن برای هرسطر برابر است با جمع مقادیر ستون‌های Parking و Warehouse و Elevator (البته با فرض این که مقادیر ستون‌ها را در مراحل قبل از True/False به 0و1 تغییر داده‌اید.)\n",
    "    </font>\n",
    "</div>"
   ]
  },
  {
   "cell_type": "code",
   "execution_count": 46,
   "id": "18e4c098",
   "metadata": {
    "papermill": {
     "duration": 0.045763,
     "end_time": "2023-12-15T20:40:35.033211",
     "exception": false,
     "start_time": "2023-12-15T20:40:34.987448",
     "status": "completed"
    },
    "tags": []
   },
   "outputs": [
    {
     "name": "stdout",
     "output_type": "stream",
     "text": [
      "0       3\n",
      "1       3\n",
      "2       3\n",
      "3       3\n",
      "4       3\n",
      "       ..\n",
      "3474    3\n",
      "3475    3\n",
      "3476    0\n",
      "3477    3\n",
      "3478    2\n",
      "Name: Score, Length: 3456, dtype: int64\n"
     ]
    }
   ],
   "source": [
    "df['Score'] = df['Parking'] + df['Warehouse'] + df['Elevator']\n",
    "print(df['Score'])"
   ]
  },
  {
   "cell_type": "markdown",
   "id": "ef47ff2e",
   "metadata": {
    "papermill": {
     "duration": 0.036579,
     "end_time": "2023-12-15T20:40:35.106679",
     "exception": false,
     "start_time": "2023-12-15T20:40:35.0701",
     "status": "completed"
    },
    "tags": []
   },
   "source": [
    "<div dir = \"rtl\" style=\"font-face:IranSansX;direction:rtl;line-height:250%;font-size:small;\">\n",
    "\t<font face=\"IranSansX\" size=3>\n",
    "        محاسبه کنید که چند درصد خانه‌هایی که مساحت کمتر از 100مترمربع دارند، دارای پارکینگ هستند؟\n",
    "    </font>\n",
    "</div>"
   ]
  },
  {
   "cell_type": "code",
   "execution_count": 47,
   "id": "48f03f9e",
   "metadata": {
    "papermill": {
     "duration": 0.045734,
     "end_time": "2023-12-15T20:40:35.189561",
     "exception": false,
     "start_time": "2023-12-15T20:40:35.143827",
     "status": "completed"
    },
    "tags": []
   },
   "outputs": [
    {
     "name": "stdout",
     "output_type": "stream",
     "text": [
      "76.93459810284573\n"
     ]
    }
   ],
   "source": [
    "housesWithAreaLT100 = df[df['Area'] < 100].shape[0]\n",
    "housesWithParking = df[(df['Area'] < 100) & (df['Parking'] == True)].shape[0]\n",
    "print(housesWithParking / housesWithAreaLT100 * 100)"
   ]
  },
  {
   "cell_type": "markdown",
   "id": "e50d5613",
   "metadata": {
    "papermill": {
     "duration": 0.037351,
     "end_time": "2023-12-15T20:40:35.264609",
     "exception": false,
     "start_time": "2023-12-15T20:40:35.227258",
     "status": "completed"
    },
    "tags": []
   },
   "source": [
    "<div dir = \"rtl\" style=\"font-face:IranSansX;direction:rtl;line-height:250%;font-size:small;\">\n",
    "\t<font face=\"IranSansX\" size=3>\n",
    "        محاسبه کنید که چند درصد از خانه‌های این دیتافریم حداقل یکی از سه ویژگی پارکینگ، انباری یا آسانسور را دارند؟\n",
    "    </font>\n",
    "</div>"
   ]
  },
  {
   "cell_type": "code",
   "execution_count": 48,
   "id": "89fb9347",
   "metadata": {
    "papermill": {
     "duration": 0.045615,
     "end_time": "2023-12-15T20:40:35.348481",
     "exception": false,
     "start_time": "2023-12-15T20:40:35.302866",
     "status": "completed"
    },
    "tags": []
   },
   "outputs": [
    {
     "name": "stdout",
     "output_type": "stream",
     "text": [
      "96.29629629629629\n"
     ]
    }
   ],
   "source": [
    "totalHouses = df.shape[0]\n",
    "housesWithScoreBT0 = df[df['Score'] > 0].shape[0]\n",
    "print(housesWithScoreBT0 / totalHouses * 100)"
   ]
  },
  {
   "cell_type": "markdown",
   "id": "87f96528",
   "metadata": {
    "papermill": {
     "duration": 0.037096,
     "end_time": "2023-12-15T20:40:35.42334",
     "exception": false,
     "start_time": "2023-12-15T20:40:35.386244",
     "status": "completed"
    },
    "tags": []
   },
   "source": [
    "<div dir = \"rtl\" style=\"font-face:IranSansX;direction:rtl;line-height:250%;font-size:small;\">\n",
    "\t<font face=\"IranSansX\" size=3>\n",
    "خانه‌هایی از دیتافریم که تعداد اتاق‌های آن‌ها از 2 بیشتر است و حداقل یکی از سه ویژگی پارکینگ، انباری یا آسانسور را دارند، در قالب یک دیتافریم خروجی بدهید.    </font>\n",
    "</div>"
   ]
  },
  {
   "cell_type": "code",
   "execution_count": 49,
   "id": "43183b5b",
   "metadata": {
    "papermill": {
     "duration": 0.046629,
     "end_time": "2023-12-15T20:40:35.507415",
     "exception": false,
     "start_time": "2023-12-15T20:40:35.460786",
     "status": "completed"
    },
    "tags": []
   },
   "outputs": [
    {
     "name": "stdout",
     "output_type": "stream",
     "text": [
      "       Area  Room  Parking  Warehouse  Elevator                 Address  \\\n",
      "13    136.0     3        1          1         1             Saadat Abad   \n",
      "16    155.0     3        1          1         1                  Narmak   \n",
      "18    140.0     3        1          1         1  West Ferdows Boulevard   \n",
      "25    160.0     3        1          1         1                Velenjak   \n",
      "44    130.0     3        1          1         0                ShahrAra   \n",
      "...     ...   ...      ...        ...       ...                     ...   \n",
      "3453  180.0     3        1          1         0               Marzdaran   \n",
      "3457  123.0     3        1          1         1                Velenjak   \n",
      "3458  148.0     3        1          1         1               Daryan No   \n",
      "3463  133.0     3        1          0         1          Shahrake Gharb   \n",
      "3472  113.0     3        1          1         1             Ostad Moein   \n",
      "\n",
      "             Price  Price(Usd)  Score  \n",
      "13    1.100000e+10   366666.67      3  \n",
      "16    6.700000e+09   223333.33      3  \n",
      "18    6.400000e+09   213333.33      3  \n",
      "25    1.494500e+10   498166.67      3  \n",
      "44    5.000000e+09   166666.67      2  \n",
      "...            ...         ...    ...  \n",
      "3453  1.080000e+10   360000.00      2  \n",
      "3457  1.250000e+10   416666.67      3  \n",
      "3458  6.000000e+09   200000.00      3  \n",
      "3463  1.000000e+10   333333.33      2  \n",
      "3472  3.170000e+09   105666.67      3  \n",
      "\n",
      "[821 rows x 9 columns]\n"
     ]
    }
   ],
   "source": [
    "tempDf = df[(df['Score'] > 0) & (df['Room'] > 2)]\n",
    "print(tempDf)"
   ]
  },
  {
   "cell_type": "markdown",
   "id": "a9d4dd60",
   "metadata": {
    "papermill": {
     "duration": 0.037213,
     "end_time": "2023-12-15T20:40:35.58354",
     "exception": false,
     "start_time": "2023-12-15T20:40:35.546327",
     "status": "completed"
    },
    "tags": []
   },
   "source": [
    "<div dir = \"rtl\" style=\"font-face:IranSansX;direction:rtl;line-height:250%;font-size:small;\">\n",
    "\t<font face=\"IranSansX\" size=3>\n",
    "        خانه‌هایی که حداقل 2 و حداکثر 4 اتاق دارند و دارای پارکینگ هستند را در قالب یک دیتافریم خروجی دهید.\n",
    "    </font>\n",
    "</div>"
   ]
  },
  {
   "cell_type": "code",
   "execution_count": 50,
   "id": "ff3ad0ae-0138-4198-9c7e-f5356f4d4898",
   "metadata": {
    "papermill": {
     "duration": 0.044741,
     "end_time": "2023-12-15T20:40:35.665846",
     "exception": false,
     "start_time": "2023-12-15T20:40:35.621105",
     "status": "completed"
    },
    "tags": []
   },
   "outputs": [
    {
     "name": "stdout",
     "output_type": "stream",
     "text": [
      "       Area  Room  Parking  Warehouse  Elevator             Address  \\\n",
      "0      63.0     1        1          1         1             Shahran   \n",
      "1      60.0     1        1          1         1             Shahran   \n",
      "2      79.0     2        1          1         1              Pardis   \n",
      "3      95.0     2        1          1         1       Shahrake Qods   \n",
      "4     123.0     2        1          1         1      Shahrake Gharb   \n",
      "...     ...   ...      ...        ...       ...                 ...   \n",
      "3474   86.0     2        1          1         1  Southern Janatabad   \n",
      "3475   83.0     2        1          1         1            Niavaran   \n",
      "3476   75.0     2        0          0         0              Parand   \n",
      "3477  105.0     2        1          1         1              Dorous   \n",
      "3478   82.0     2        0          1         1              Parand   \n",
      "\n",
      "             Price  Price(Usd)  Score  \n",
      "0     1.850000e+09    61666.67      3  \n",
      "1     1.850000e+09    61666.67      3  \n",
      "2     5.500000e+08    18333.33      3  \n",
      "3     9.025000e+08    30083.33      3  \n",
      "4     7.000000e+09   233333.33      3  \n",
      "...            ...         ...    ...  \n",
      "3474  3.500000e+09   116666.67      3  \n",
      "3475  6.800000e+09   226666.67      3  \n",
      "3476  3.650000e+08    12166.67      0  \n",
      "3477  5.600000e+09   186666.67      3  \n",
      "3478  3.600000e+08    12000.00      2  \n",
      "\n",
      "[3456 rows x 9 columns]\n"
     ]
    }
   ],
   "source": [
    "tempDf = df[(1 < df['Room']) & (df['Room'] < 5) & (df['Parking'] == True)]\n",
    "print(df)"
   ]
  },
  {
   "cell_type": "markdown",
   "id": "a8f29c1d",
   "metadata": {
    "papermill": {
     "duration": 0.036954,
     "end_time": "2023-12-15T20:40:35.741336",
     "exception": false,
     "start_time": "2023-12-15T20:40:35.704382",
     "status": "completed"
    },
    "tags": []
   },
   "source": [
    "<div dir = \"rtl\" style=\"font-face:IranSansX;direction:rtl;line-height:250%;font-size:small;\">\n",
    "\t<font face=\"IranSansX\" size=3>\n",
    "یک ستون به دیتافریم اضافه کنید و در آن حاصل تقسیم Price بر Area را ذخیره کنید، سپس دیتافریم را برحسب این ستون sort کنید. حال بررسی کنید که 50 خانه‌ی اول این دیتافریم sort شده مربوط به کدام Addressهای متمایز هستند. این Addressها را در قالب یک لیست خروجی دهید.\n",
    "    </font>\n",
    "</div>"
   ]
  },
  {
   "cell_type": "code",
   "execution_count": 51,
   "id": "0293c730",
   "metadata": {
    "papermill": {
     "duration": 0.045015,
     "end_time": "2023-12-15T20:40:35.823502",
     "exception": false,
     "start_time": "2023-12-15T20:40:35.778487",
     "status": "completed"
    },
    "tags": []
   },
   "outputs": [
    {
     "name": "stdout",
     "output_type": "stream",
     "text": [
      "['Shahran', 'Pardis', 'Shahrake Qods', 'Shahrake Gharb', 'North Program Organization', 'Andisheh', 'West Ferdows Boulevard', 'Narmak', 'Saadat Abad', 'Zafar', 'Islamshahr', 'Pirouzi', 'Shahrake Shahid Bagheri', 'Moniriyeh', 'Velenjak', 'Amirieh', 'Southern Janatabad', 'Salsabil', 'Zargandeh', 'Feiz Garden', 'Water Organization', 'ShahrAra', 'Gisha', 'Ray', 'Abbasabad']\n"
     ]
    }
   ],
   "source": [
    "df['PPA'] = df['Price'] / df['Area']\n",
    "df.sort_values('PPA')\n",
    "print(df.head(50)['Address'].unique().tolist())"
   ]
  },
  {
   "cell_type": "markdown",
   "id": "c969b9fe",
   "metadata": {
    "papermill": {
     "duration": 0.037076,
     "end_time": "2023-12-15T20:40:35.89828",
     "exception": false,
     "start_time": "2023-12-15T20:40:35.861204",
     "status": "completed"
    },
    "tags": []
   },
   "source": [
    "<div dir = \"rtl\" style=\"font-face:IranSansX;direction:rtl;line-height:250%;font-size:small;\">\n",
    "\t<font face=\"IranSansX\" size=3>\n",
    "        <b>\n",
    "        <font color=#006bcf size=5>فاز دوم پروژه: </font>\n",
    "        <font color=#006bcf size=5>\n",
    "Data Visualization\n",
    "            </font>\n",
    "         </b>\n",
    "        <br><br>\n",
    "         <font face=\"IranSansX\" size=3>\n",
    "        بخش تصویرسازی داده‌ها در این پروژه، به دانشجوان فرصت می‌دهد تا با استفاده از ابزارها و تکنیک‌های مختلف، داده‌های خود را به شکل‌های بصری جذاب و قابل فهم ترسیم کنند. این بخش از پروژه امکان می‌دهد تا دانشجوان با استفاده از نمودارها، نقشه‌ها، چارت‌ها و دیگر روش‌های تصویری، اطلاعات و الگوهای مهم موجود در داده‌های خود را به روشی کارآمد و شفاف برای مخاطبان مختلف به نمایش بگذارند. این فرایند نه‌تنها به دانشجوان کمک می‌کند تا داده‌های خود را بهبود دهند و بازنمایی مناسبی از آن‌ها ارائه دهند، بلکه به آن‌ها این امکان را می‌دهد تا ارتباطات قوی‌تری بین داده‌ها را ایجاد کرده و الگوها یا تفاوت‌های مهم را به دیگران به شیوه‌ای واضح و قابل فهم نشان دهند. استفاده از تصاویر و گرافیک‌های مختلف به دانشجوان کمک می‌کند تا ارتباطات خود را بهبود بخشند و به دیگران کمک کنند تا داده‌ها را با یک دید بصری جذاب و موثرتر درک کنند.\n",
    "        </font>\n",
    "        <hr/>\n",
    "        <hr/>\n",
    "    </font>\n",
    "</div>"
   ]
  },
  {
   "cell_type": "markdown",
   "id": "cb328363",
   "metadata": {
    "papermill": {
     "duration": 0.037067,
     "end_time": "2023-12-15T20:40:35.97282",
     "exception": false,
     "start_time": "2023-12-15T20:40:35.935753",
     "status": "completed"
    },
    "tags": []
   },
   "source": [
    "<div dir = \"rtl\" style=\"font-face:IranSansX;direction:rtl;line-height:250%;font-size:small;\">\n",
    "\t<font face=\"IranSansX\" size=3>\n",
    "        <b><font color=#cf0000 size=4>نکات مهم فاز دوم</font></b>\n",
    "        <hr/>\n",
    "        <ul>\n",
    "            <li>در این فاز اجباری است که تمامی نمودارهایی که رسم می‌کنید دارای title و label و ... باشد.(جدای از این که داخل متن سوال اشاره شده یا خیر.)</li>\n",
    "            <li>همچنین لازم است که scale تمامی نمودارها را با استفاده از دستوراتی همانند xlim و ylim طوری تنظیم کنید که نمودار شکل و شمایل خوبی داشته باشد.</li>\n",
    "        </ul>\n",
    "        <img src=\"https://github.com/MoeeinAali/FOP2023-Python-Project-SUT/blob/main/public/pic1.jpg?raw=true\" style=\"width:75%;\">\n",
    "                <hr>\n",
    "    </font>\n",
    "</div>"
   ]
  },
  {
   "cell_type": "markdown",
   "id": "19cab075",
   "metadata": {
    "papermill": {
     "duration": 0.038028,
     "end_time": "2023-12-15T20:40:36.048044",
     "exception": false,
     "start_time": "2023-12-15T20:40:36.010016",
     "status": "completed"
    },
    "tags": []
   },
   "source": [
    "<div dir = \"rtl\" style=\"font-face:IranSansX;direction:rtl;line-height:250%;font-size:small;\">\n",
    "\t<font face=\"IranSansX\" size=3>\n",
    "        نمودار پراکندگی Price برحسب Area را رسم کنید.(نام هر محور را با label مشخص کنید.)\n",
    "    </font>\n",
    "</div>"
   ]
  },
  {
   "cell_type": "code",
   "execution_count": 52,
   "id": "20975eb6",
   "metadata": {
    "papermill": {
     "duration": 0.045961,
     "end_time": "2023-12-15T20:40:36.131136",
     "exception": false,
     "start_time": "2023-12-15T20:40:36.085175",
     "status": "completed"
    },
    "tags": []
   },
   "outputs": [
    {
     "data": {
      "image/png": "[encoded data removed]",
      "text/plain": [
       "<Figure size 640x480 with 1 Axes>"
      ]
     },
     "metadata": {},
     "output_type": "display_data"
    }
   ],
   "source": [
    "plt.scatter(df['Price'], df['Area'])\n",
    "plt.title('Scatter Plot of Price vs Area')\n",
    "plt.xlabel('Price')\n",
    "plt.ylabel('Area')\n",
    "plt.axis('auto')\n",
    "plt.show()"
   ]
  },
  {
   "cell_type": "markdown",
   "id": "7918f620",
   "metadata": {
    "papermill": {
     "duration": 0.037091,
     "end_time": "2023-12-15T20:40:36.20679",
     "exception": false,
     "start_time": "2023-12-15T20:40:36.169699",
     "status": "completed"
    },
    "tags": []
   },
   "source": [
    "<div dir = \"rtl\" style=\"font-face:IranSansX;direction:rtl;line-height:250%;font-size:small;\">\n",
    "\t<font face=\"IranSansX\" size=3>\n",
    "نمودار قبلی را با رنگی غیر از رنگ default رسم کنید.    </font>\n",
    "</div>"
   ]
  },
  {
   "cell_type": "code",
   "execution_count": 53,
   "id": "bf22fe78",
   "metadata": {
    "papermill": {
     "duration": 0.045848,
     "end_time": "2023-12-15T20:40:36.290371",
     "exception": false,
     "start_time": "2023-12-15T20:40:36.244523",
     "status": "completed"
    },
    "tags": []
   },
   "outputs": [
    {
     "data": {
      "image/png": "[encoded data removed]",
      "text/plain": [
       "<Figure size 640x480 with 1 Axes>"
      ]
     },
     "metadata": {},
     "output_type": "display_data"
    }
   ],
   "source": [
    "plt.scatter(df['Price'], df['Area'], color='Purple')\n",
    "plt.title('Scatter Plot of Price vs Area')\n",
    "plt.xlabel('Price')\n",
    "plt.ylabel('Area')\n",
    "plt.axis('auto')\n",
    "plt.show()"
   ]
  },
  {
   "cell_type": "markdown",
   "id": "9255c0c6",
   "metadata": {
    "papermill": {
     "duration": 0.037497,
     "end_time": "2023-12-15T20:40:36.366326",
     "exception": false,
     "start_time": "2023-12-15T20:40:36.328829",
     "status": "completed"
    },
    "tags": []
   },
   "source": [
    "<div dir = \"rtl\" style=\"font-face:IranSansX;direction:rtl;line-height:250%;font-size:small;\">\n",
    "\t<font face=\"IranSansX\" size=3>\n",
    "        نمودار قبلی را طوری رسم کنید که نقاط با کارکتر ستاره (*) نشان داده شوند.\n",
    "    </font>\n",
    "</div>"
   ]
  },
  {
   "cell_type": "code",
   "execution_count": 54,
   "id": "3e1aa31e",
   "metadata": {
    "papermill": {
     "duration": 0.046393,
     "end_time": "2023-12-15T20:40:36.450234",
     "exception": false,
     "start_time": "2023-12-15T20:40:36.403841",
     "status": "completed"
    },
    "tags": []
   },
   "outputs": [
    {
     "data": {
      "image/png": "[encoded data removed]",
      "text/plain": [
       "<Figure size 640x480 with 1 Axes>"
      ]
     },
     "metadata": {},
     "output_type": "display_data"
    }
   ],
   "source": [
    "plt.scatter(df['Price'], df['Area'], color='Purple', marker='*')\n",
    "plt.title('Scatter Plot of Price vs Area')\n",
    "plt.xlabel('Price')\n",
    "plt.ylabel('Area')\n",
    "plt.axis('auto')\n",
    "plt.show()"
   ]
  },
  {
   "cell_type": "markdown",
   "id": "f1c67b1e",
   "metadata": {
    "papermill": {
     "duration": 0.037251,
     "end_time": "2023-12-15T20:40:36.525078",
     "exception": false,
     "start_time": "2023-12-15T20:40:36.487827",
     "status": "completed"
    },
    "tags": []
   },
   "source": [
    "<div dir = \"rtl\" style=\"font-face:IranSansX;direction:rtl;line-height:250%;font-size:small;\">\n",
    "\t<font face=\"IranSansX\" size=3>\n",
    "نمودار پراکندگی Price برحسب Room را همانند نمودار قبلی با ویژگی‌های فوق به صورت یکجا رسم کنید.    </font>\n",
    "</div>"
   ]
  },
  {
   "cell_type": "code",
   "execution_count": 91,
   "id": "be938dcf",
   "metadata": {
    "papermill": {
     "duration": 0.045916,
     "end_time": "2023-12-15T20:40:36.608852",
     "exception": false,
     "start_time": "2023-12-15T20:40:36.562936",
     "status": "completed"
    },
    "tags": []
   },
   "outputs": [
    {
     "data": {
      "image/png": "[encoded data removed]",
      "text/plain": [
       "<Figure size 640x480 with 2 Axes>"
      ]
     },
     "metadata": {},
     "output_type": "display_data"
    }
   ],
   "source": [
    "plt.figure()\n",
    "\n",
    "# first plot\n",
    "plt.subplot(1,2,1)\n",
    "plt.scatter(df['Price'], df['Area'], color='Purple', marker='*')\n",
    "plt.title('Scatter Plot of Price vs Area')\n",
    "plt.xlabel('Price')\n",
    "plt.ylabel('Area')\n",
    "plt.axis('auto')\n",
    "\n",
    "# second plot\n",
    "plt.subplot(1,2,2)\n",
    "plt.scatter(df['Price'], df['Room'], color='Blue', marker='.')\n",
    "plt.title('Scatter Plot of Price vs Room')\n",
    "plt.xlabel('Price')\n",
    "plt.ylabel('Room')\n",
    "plt.axis('auto')\n",
    "\n",
    "plt.tight_layout()\n",
    "plt.show()"
   ]
  },
  {
   "cell_type": "markdown",
   "id": "5bee8e64",
   "metadata": {
    "papermill": {
     "duration": 0.037824,
     "end_time": "2023-12-15T20:40:36.686189",
     "exception": false,
     "start_time": "2023-12-15T20:40:36.648365",
     "status": "completed"
    },
    "tags": []
   },
   "source": [
    "<div dir = \"rtl\" style=\"font-face:IranSansX;direction:rtl;line-height:250%;font-size:small;\">\n",
    "\t<font face=\"IranSansX\" size=3>\n",
    "        نمودار پراکندگی Price را برحسب ستون Score که خودمان در قسمت‌های قبل ایجاد کردیم رسم کنید.\n",
    "    </font>\n",
    "</div>"
   ]
  },
  {
   "cell_type": "code",
   "execution_count": 92,
   "id": "dbe97e69",
   "metadata": {
    "papermill": {
     "duration": 0.045635,
     "end_time": "2023-12-15T20:40:36.77003",
     "exception": false,
     "start_time": "2023-12-15T20:40:36.724395",
     "status": "completed"
    },
    "tags": []
   },
   "outputs": [
    {
     "data": {
      "image/png": "[encoded data removed]",
      "text/plain": [
       "<Figure size 640x480 with 1 Axes>"
      ]
     },
     "metadata": {},
     "output_type": "display_data"
    }
   ],
   "source": [
    "plt.scatter(df['Price'], df['Score'], color='Cyan', marker='.')\n",
    "plt.title('Scatter Plot of Price vs Score')\n",
    "plt.xlabel('Price')\n",
    "plt.ylabel('Score')\n",
    "plt.axis('auto')\n",
    "plt.show()"
   ]
  },
  {
   "cell_type": "markdown",
   "id": "4de195e7",
   "metadata": {
    "papermill": {
     "duration": 0.038146,
     "end_time": "2023-12-15T20:40:36.846382",
     "exception": false,
     "start_time": "2023-12-15T20:40:36.808236",
     "status": "completed"
    },
    "tags": []
   },
   "source": [
    "<div dir = \"rtl\" style=\"font-face:IranSansX;direction:rtl;line-height:250%;font-size:small;\">\n",
    "\t<font face=\"IranSansX\" size=3>\n",
    "        نمودار توزیع فراوانی را برای ستون Price رسم کنید. بازه‌ی تغییرات قیمت را به 30 قسمت تقسیم کرده و در نمودار نشان دهید.\n",
    "    </font>\n",
    "</div>"
   ]
  },
  {
   "cell_type": "code",
   "execution_count": 97,
   "id": "b2caa05c",
   "metadata": {
    "papermill": {
     "duration": 0.045984,
     "end_time": "2023-12-15T20:40:36.930429",
     "exception": false,
     "start_time": "2023-12-15T20:40:36.884445",
     "status": "completed"
    },
    "tags": []
   },
   "outputs": [
    {
     "data": {
      "image/png": "[encoded data removed]",
      "text/plain": [
       "<Figure size 640x480 with 1 Axes>"
      ]
     },
     "metadata": {},
     "output_type": "display_data"
    }
   ],
   "source": [
    "freq = df['Price'].value_counts(bins=30, sort=False).sort_index()\n",
    "freq.plot(kind='bar')\n",
    "plt.title('Frequency Distribution chart of Price')\n",
    "plt.xlabel('Categories')\n",
    "plt.ylabel('Frequency')\n",
    "plt.axis('auto')\n",
    "plt.show()"
   ]
  },
  {
   "cell_type": "markdown",
   "id": "e8d72bba",
   "metadata": {
    "papermill": {
     "duration": 0.037536,
     "end_time": "2023-12-15T20:40:37.005765",
     "exception": false,
     "start_time": "2023-12-15T20:40:36.968229",
     "status": "completed"
    },
    "tags": []
   },
   "source": [
    "<div dir = \"rtl\" style=\"font-face:IranSansX;direction:rtl;line-height:250%;font-size:small;\">\n",
    "\t<font face=\"IranSansX\" size=3>\n",
    "برای نمودار قسمت قبل، نمودار تخمین چگالی توزیع هم‌زمان (KDE) را رسم کنید.(این نمودار یک تخمین صاف و پیوسته از توزیع احتمال داده‌ها را نشان می‌دهد.)    </font>\n",
    "</div>"
   ]
  },
  {
   "cell_type": "code",
   "execution_count": 43,
   "id": "9131550e",
   "metadata": {
    "execution": {
     "iopub.execute_input": "2023-12-15T20:40:35.027908Z",
     "iopub.status.busy": "2023-12-15T20:40:35.027211Z",
     "iopub.status.idle": "2023-12-15T20:40:35.03113Z",
     "shell.execute_reply": "2023-12-15T20:40:35.030228Z"
    },
    "papermill": {
     "duration": 0.046492,
     "end_time": "2023-12-15T20:40:37.092233",
     "exception": false,
     "start_time": "2023-12-15T20:40:37.045741",
     "status": "completed"
    },
    "tags": []
   },
   "outputs": [],
   "source": [
    "#type your code here..."
   ]
  },
  {
   "cell_type": "markdown",
   "id": "84f66580",
   "metadata": {
    "papermill": {
     "duration": 0.039185,
     "end_time": "2023-12-15T20:40:37.16976",
     "exception": false,
     "start_time": "2023-12-15T20:40:37.130575",
     "status": "completed"
    },
    "tags": []
   },
   "source": [
    "<div dir = \"rtl\" style=\"font-face:IranSansX;direction:rtl;line-height:250%;font-size:small;\">\n",
    "\t<font face=\"IranSansX\" size=3>\n",
    "        توضیح دهید که کاربرد نمودار توزیع فراوانی چیست؟\n",
    "    </font>\n",
    "</div>"
   ]
  },
  {
   "cell_type": "markdown",
   "id": "25082add",
   "metadata": {
    "papermill": {
     "duration": 0.037883,
     "end_time": "2023-12-15T20:40:37.246219",
     "exception": false,
     "start_time": "2023-12-15T20:40:37.208336",
     "status": "completed"
    },
    "tags": []
   },
   "source": [
    "<div dir = \"rtl\" style=\"font-face:IranSansX;direction:rtl;font-size:small;\">\n",
    "\t<font face=\"IranSansX\" size=2 color=#006bcf>\n",
    "متن پاسخ خود را اینجا paste کنید.\n",
    "    </font>\n",
    "</div>"
   ]
  },
  {
   "cell_type": "markdown",
   "id": "382e9951",
   "metadata": {
    "papermill": {
     "duration": 0.03825,
     "end_time": "2023-12-15T20:40:37.322867",
     "exception": false,
     "start_time": "2023-12-15T20:40:37.284617",
     "status": "completed"
    },
    "tags": []
   },
   "source": [
    "<div dir = \"rtl\" style=\"font-face:IranSansX;direction:rtl;line-height:250%;font-size:small;\">\n",
    "\t<font face=\"IranSansX\" size=3>\n",
    "با استفاده از نمودار Pairplot برای هر دو جفت ستون موجود در دیتافریم یک نمودار پراکندگی به همراه KDE رسم کنید.\n",
    "    </font>\n",
    "</div>"
   ]
  },
  {
   "cell_type": "code",
   "execution_count": 44,
   "id": "f90e3d9d",
   "metadata": {
    "execution": {
     "iopub.execute_input": "2023-12-15T20:40:35.182822Z",
     "iopub.status.busy": "2023-12-15T20:40:35.18236Z",
     "iopub.status.idle": "2023-12-15T20:40:35.186765Z",
     "shell.execute_reply": "2023-12-15T20:40:35.185661Z"
    },
    "papermill": {
     "duration": 0.046829,
     "end_time": "2023-12-15T20:40:37.408353",
     "exception": false,
     "start_time": "2023-12-15T20:40:37.361524",
     "status": "completed"
    },
    "tags": []
   },
   "outputs": [],
   "source": [
    "#type your code here..."
   ]
  },
  {
   "cell_type": "markdown",
   "id": "933267c0",
   "metadata": {
    "papermill": {
     "duration": 0.037803,
     "end_time": "2023-12-15T20:40:37.484168",
     "exception": false,
     "start_time": "2023-12-15T20:40:37.446365",
     "status": "completed"
    },
    "tags": []
   },
   "source": [
    "<div dir = \"rtl\" style=\"font-face:IranSansX;direction:rtl;line-height:250%;font-size:small;\">\n",
    "\t<font face=\"IranSansX\" size=3>\n",
    "ابتدا ماتریس همبستگی (Correlation Matrix) دیتافریم را با استفاده از توابع آماده بسازید و ذخیره کنید، سپس نمودار Heatmap را بر اساس این ماتریس رسم کنید.\n",
    "    </font>\n",
    "</div>"
   ]
  },
  {
   "cell_type": "code",
   "execution_count": 45,
   "id": "64f15384",
   "metadata": {
    "execution": {
     "iopub.execute_input": "2023-12-15T20:40:35.341919Z",
     "iopub.status.busy": "2023-12-15T20:40:35.341491Z",
     "iopub.status.idle": "2023-12-15T20:40:35.346003Z",
     "shell.execute_reply": "2023-12-15T20:40:35.344855Z"
    },
    "papermill": {
     "duration": 0.046282,
     "end_time": "2023-12-15T20:40:37.568521",
     "exception": false,
     "start_time": "2023-12-15T20:40:37.522239",
     "status": "completed"
    },
    "tags": []
   },
   "outputs": [],
   "source": [
    "#type your code here..."
   ]
  },
  {
   "cell_type": "markdown",
   "id": "c2c56e18",
   "metadata": {
    "papermill": {
     "duration": 0.038084,
     "end_time": "2023-12-15T20:40:37.64523",
     "exception": false,
     "start_time": "2023-12-15T20:40:37.607146",
     "status": "completed"
    },
    "tags": []
   },
   "source": [
    "<div dir = \"rtl\" style=\"font-face:IranSansX;direction:rtl;line-height:250%;font-size:small;\">\n",
    "\t<font face=\"IranSansX\" size=3>\n",
    "        نمودار Heatmap را به گونه‌ای رسم کنید که مقدار ماتریس همبستگی در هر خانه از نمودار نشان داده شود و از پالت رنگی RdYlGn برای رسم نمودار استفاده شود.\n",
    "    </font>\n",
    "</div>"
   ]
  },
  {
   "cell_type": "code",
   "execution_count": 46,
   "id": "425fae8c",
   "metadata": {
    "execution": {
     "iopub.execute_input": "2023-12-15T20:40:35.500204Z",
     "iopub.status.busy": "2023-12-15T20:40:35.499813Z",
     "iopub.status.idle": "2023-12-15T20:40:35.504805Z",
     "shell.execute_reply": "2023-12-15T20:40:35.503483Z"
    },
    "papermill": {
     "duration": 0.045733,
     "end_time": "2023-12-15T20:40:37.729176",
     "exception": false,
     "start_time": "2023-12-15T20:40:37.683443",
     "status": "completed"
    },
    "tags": []
   },
   "outputs": [],
   "source": [
    "#type your code here..."
   ]
  },
  {
   "cell_type": "markdown",
   "id": "3f40aaba",
   "metadata": {
    "papermill": {
     "duration": 0.038676,
     "end_time": "2023-12-15T20:40:37.806079",
     "exception": false,
     "start_time": "2023-12-15T20:40:37.767403",
     "status": "completed"
    },
    "tags": []
   },
   "source": [
    "<div dir = \"rtl\" style=\"font-face:IranSansX;direction:rtl;line-height:250%;font-size:small;\">\n",
    "\t<font face=\"IranSansX\" size=3>\n",
    "توضیح دهید که کاربرد Heatmap چیست؟\n",
    "    </font>\n",
    "</div>"
   ]
  },
  {
   "cell_type": "markdown",
   "id": "560c4944",
   "metadata": {
    "papermill": {
     "duration": 0.038727,
     "end_time": "2023-12-15T20:40:37.883925",
     "exception": false,
     "start_time": "2023-12-15T20:40:37.845198",
     "status": "completed"
    },
    "tags": []
   },
   "source": [
    "<div dir = \"rtl\" style=\"font-face:IranSansX;direction:rtl;font-size:small;\">\n",
    "\t<font face=\"IranSansX\" size=2 color=#006bcf>\n",
    "متن پاسخ خود را اینجا paste کنید.\n",
    "    </font>\n",
    "</div>"
   ]
  },
  {
   "cell_type": "markdown",
   "id": "046bb3e6",
   "metadata": {
    "papermill": {
     "duration": 0.038314,
     "end_time": "2023-12-15T20:40:37.960552",
     "exception": false,
     "start_time": "2023-12-15T20:40:37.922238",
     "status": "completed"
    },
    "tags": []
   },
   "source": [
    "<div dir = \"rtl\" style=\"font-face:IranSansX;direction:rtl;line-height:250%;font-size:small;\">\n",
    "\t<font face=\"IranSansX\" size=3>\n",
    "        برای ستون Parking نمودار Pie Chart را به گونه‌ای رسم کنید که هر بخش نمودار یک رنگ دلخواه از طیف سبز داشته باشد و بخشی که فراوانی کمتری دارد از نمودار explode شود و هر بخش نمودار یک label داشته باشد.\n",
    "    </font>\n",
    "</div>"
   ]
  },
  {
   "cell_type": "code",
   "execution_count": 47,
   "id": "ffc29b5e",
   "metadata": {
    "execution": {
     "iopub.execute_input": "2023-12-15T20:40:35.660121Z",
     "iopub.status.busy": "2023-12-15T20:40:35.659723Z",
     "iopub.status.idle": "2023-12-15T20:40:35.663466Z",
     "shell.execute_reply": "2023-12-15T20:40:35.662738Z"
    },
    "papermill": {
     "duration": 0.048435,
     "end_time": "2023-12-15T20:40:38.047406",
     "exception": false,
     "start_time": "2023-12-15T20:40:37.998971",
     "status": "completed"
    },
    "tags": []
   },
   "outputs": [],
   "source": [
    "#type your code here..."
   ]
  },
  {
   "cell_type": "markdown",
   "id": "b61a73f1",
   "metadata": {
    "papermill": {
     "duration": 0.038069,
     "end_time": "2023-12-15T20:40:38.124016",
     "exception": false,
     "start_time": "2023-12-15T20:40:38.085947",
     "status": "completed"
    },
    "tags": []
   },
   "source": [
    "<div dir = \"rtl\" style=\"font-face:IranSansX;direction:rtl;line-height:250%;font-size:small;\">\n",
    "\t<font face=\"IranSansX\" size=3>\n",
    "توضیح دهید که کاربرد Piechart چیست؟\n",
    "    </font>\n",
    "</div>"
   ]
  },
  {
   "cell_type": "markdown",
   "id": "c0f17ece",
   "metadata": {
    "papermill": {
     "duration": 0.038175,
     "end_time": "2023-12-15T20:40:38.200399",
     "exception": false,
     "start_time": "2023-12-15T20:40:38.162224",
     "status": "completed"
    },
    "tags": []
   },
   "source": [
    "<div dir = \"rtl\" style=\"font-face:IranSansX;direction:rtl;font-size:small;\">\n",
    "\t<font face=\"IranSansX\" size=2 color=#006bcf>\n",
    "متن پاسخ خود را اینجا paste کنید.\n",
    "    </font>\n",
    "</div>"
   ]
  },
  {
   "cell_type": "markdown",
   "id": "ae780085",
   "metadata": {
    "papermill": {
     "duration": 0.038208,
     "end_time": "2023-12-15T20:40:38.278314",
     "exception": false,
     "start_time": "2023-12-15T20:40:38.240106",
     "status": "completed"
    },
    "tags": []
   },
   "source": [
    "<div dir = \"rtl\" style=\"font-face:IranSansX;direction:rtl;line-height:250%;font-size:small;\">\n",
    "\t<font face=\"IranSansX\" size=3>\n",
    "        یک نمودار سه قسمتی از نوع Pie Chart رسم کنید. هربخش از این نمودار نشان دهنده توزیع یکی از سه متغیر Warehouse , Parking , Elevator است. نمودار را به گونه‌ای رسم کنید که طیف رنگی هر متغیر با دیگری فرق کند و هر بخش نمودار دارای label مناسب باشد و بخشی که فراوانی کمتری دارد از نمودار explode شود.\n",
    "    </font>\n",
    "</div>"
   ]
  },
  {
   "cell_type": "code",
   "execution_count": 48,
   "id": "822128cd",
   "metadata": {
    "execution": {
     "iopub.execute_input": "2023-12-15T20:40:35.817475Z",
     "iopub.status.busy": "2023-12-15T20:40:35.817098Z",
     "iopub.status.idle": "2023-12-15T20:40:35.821358Z",
     "shell.execute_reply": "2023-12-15T20:40:35.8205Z"
    },
    "papermill": {
     "duration": 0.046431,
     "end_time": "2023-12-15T20:40:38.364741",
     "exception": false,
     "start_time": "2023-12-15T20:40:38.31831",
     "status": "completed"
    },
    "tags": []
   },
   "outputs": [],
   "source": [
    "#type your code here..."
   ]
  },
  {
   "cell_type": "markdown",
   "id": "6c028bf2",
   "metadata": {
    "papermill": {
     "duration": 0.037809,
     "end_time": "2023-12-15T20:40:38.441362",
     "exception": false,
     "start_time": "2023-12-15T20:40:38.403553",
     "status": "completed"
    },
    "tags": []
   },
   "source": [
    "<div dir = \"rtl\" style=\"font-face:IranSansX;direction:rtl;line-height:250%;font-size:small;\">\n",
    "\t<font face=\"IranSansX\" size=3>\n",
    "نمودار جعبه‌ای را برای ستون Price به گونه‌ای رسم کنید که رنگ آن قرمز باشد و نمودار دارای title و xlabel باشد. \n",
    "    </font>\n",
    "</div>"
   ]
  },
  {
   "cell_type": "code",
   "execution_count": 49,
   "id": "a8e52f6d",
   "metadata": {
    "execution": {
     "iopub.execute_input": "2023-12-15T20:40:36.124916Z",
     "iopub.status.busy": "2023-12-15T20:40:36.12391Z",
     "iopub.status.idle": "2023-12-15T20:40:36.128732Z",
     "shell.execute_reply": "2023-12-15T20:40:36.127893Z"
    },
    "papermill": {
     "duration": 0.045816,
     "end_time": "2023-12-15T20:40:38.525334",
     "exception": false,
     "start_time": "2023-12-15T20:40:38.479518",
     "status": "completed"
    },
    "tags": []
   },
   "outputs": [],
   "source": [
    "#type your code here..."
   ]
  },
  {
   "cell_type": "markdown",
   "id": "0acc4b1b",
   "metadata": {
    "papermill": {
     "duration": 0.040172,
     "end_time": "2023-12-15T20:40:38.604238",
     "exception": false,
     "start_time": "2023-12-15T20:40:38.564066",
     "status": "completed"
    },
    "tags": []
   },
   "source": [
    "<div dir = \"rtl\" style=\"font-face:IranSansX;direction:rtl;line-height:250%;font-size:small;\">\n",
    "\t<font face=\"IranSansX\" size=3>\n",
    "نمودار قبلی را به گونه‌ای رسم کنید که قطر خطوط و اندازه فونت نوشته‌های نمودار را به میزان دلخواه زیاد کنید.    </font>\n",
    "</div>"
   ]
  },
  {
   "cell_type": "code",
   "execution_count": 50,
   "id": "a8e71ca2",
   "metadata": {
    "execution": {
     "iopub.execute_input": "2023-12-15T20:40:36.284335Z",
     "iopub.status.busy": "2023-12-15T20:40:36.283548Z",
     "iopub.status.idle": "2023-12-15T20:40:36.288008Z",
     "shell.execute_reply": "2023-12-15T20:40:36.287089Z"
    },
    "papermill": {
     "duration": 0.04734,
     "end_time": "2023-12-15T20:40:38.689906",
     "exception": false,
     "start_time": "2023-12-15T20:40:38.642566",
     "status": "completed"
    },
    "tags": []
   },
   "outputs": [],
   "source": [
    "#type your code here..."
   ]
  },
  {
   "cell_type": "markdown",
   "id": "e48e24ba",
   "metadata": {
    "papermill": {
     "duration": 0.038533,
     "end_time": "2023-12-15T20:40:38.766936",
     "exception": false,
     "start_time": "2023-12-15T20:40:38.728403",
     "status": "completed"
    },
    "tags": []
   },
   "source": [
    "<div dir = \"rtl\" style=\"font-face:IranSansX;direction:rtl;line-height:250%;font-size:small;\">\n",
    "\t<font face=\"IranSansX\" size=3>\n",
    "        نمودار histogram را برای ستون Room رسم کنید و برای آن label و title و رنگ مناسب مشخص کنید.\n",
    "    </font>\n",
    "</div>"
   ]
  },
  {
   "cell_type": "code",
   "execution_count": 51,
   "id": "a254c648",
   "metadata": {
    "execution": {
     "iopub.execute_input": "2023-12-15T20:40:36.444081Z",
     "iopub.status.busy": "2023-12-15T20:40:36.442868Z",
     "iopub.status.idle": "2023-12-15T20:40:36.447942Z",
     "shell.execute_reply": "2023-12-15T20:40:36.447163Z"
    },
    "papermill": {
     "duration": 0.046708,
     "end_time": "2023-12-15T20:40:38.851941",
     "exception": false,
     "start_time": "2023-12-15T20:40:38.805233",
     "status": "completed"
    },
    "tags": []
   },
   "outputs": [],
   "source": [
    "#type your code here..."
   ]
  },
  {
   "cell_type": "markdown",
   "id": "2c974ad2",
   "metadata": {
    "papermill": {
     "duration": 0.040581,
     "end_time": "2023-12-15T20:40:38.931727",
     "exception": false,
     "start_time": "2023-12-15T20:40:38.891146",
     "status": "completed"
    },
    "tags": []
   },
   "source": [
    "<div dir = \"rtl\" style=\"font-face:IranSansX;direction:rtl;line-height:250%;font-size:small;\">\n",
    "\t<font face=\"IranSansX\" size=3>\n",
    "        یک نمودار سه قسمتی از نوع histogram رسم کنید. هر بخش از این نمودار نشان دهنده‌ی توزیع یکی از سه متغیر Elevator , Parking , Warehouse است.  نمودار را به گونه‌ای رسم کنید که طیف رنگی هر متغیر با دیگری فرق کند و هر بخش نمودار دارای label مناسب باشد.\n",
    "    </font>\n",
    "</div>"
   ]
  },
  {
   "cell_type": "code",
   "execution_count": 52,
   "id": "14717bc2",
   "metadata": {
    "execution": {
     "iopub.execute_input": "2023-12-15T20:40:36.603286Z",
     "iopub.status.busy": "2023-12-15T20:40:36.602193Z",
     "iopub.status.idle": "2023-12-15T20:40:36.606727Z",
     "shell.execute_reply": "2023-12-15T20:40:36.605949Z"
    },
    "papermill": {
     "duration": 0.051027,
     "end_time": "2023-12-15T20:40:39.021296",
     "exception": false,
     "start_time": "2023-12-15T20:40:38.970269",
     "status": "completed"
    },
    "tags": []
   },
   "outputs": [],
   "source": [
    "#type your code here..."
   ]
  },
  {
   "cell_type": "markdown",
   "id": "42eec482",
   "metadata": {
    "papermill": {
     "duration": 0.038627,
     "end_time": "2023-12-15T20:40:39.110607",
     "exception": false,
     "start_time": "2023-12-15T20:40:39.07198",
     "status": "completed"
    },
    "tags": []
   },
   "source": [
    "<div dir = \"rtl\" style=\"font-face:IranSansX;direction:rtl;line-height:250%;font-size:small;\">\n",
    "\t<font face=\"IranSansX\" size=3>\n",
    "        ابتدا دامنه تغییرات ستون Price را محاسبه کنید و آن را به 4 بازه مساوی با نام‌های cheap , AveUnderMean , AveUpperMean , Expensive تقسیم کنید. به هر بازه تعداد خانه‌هایی که قیمتشان در این بازه قرار دارد را نسبت دهید و در آخر نمودار countplot را برای این بازه‌ها رسم کنید.\n",
    "    </font>\n",
    "</div>"
   ]
  },
  {
   "cell_type": "code",
   "execution_count": 53,
   "id": "c005001a",
   "metadata": {
    "execution": {
     "iopub.execute_input": "2023-12-15T20:40:36.764656Z",
     "iopub.status.busy": "2023-12-15T20:40:36.764014Z",
     "iopub.status.idle": "2023-12-15T20:40:36.767688Z",
     "shell.execute_reply": "2023-12-15T20:40:36.766951Z"
    },
    "papermill": {
     "duration": 0.04717,
     "end_time": "2023-12-15T20:40:39.196424",
     "exception": false,
     "start_time": "2023-12-15T20:40:39.149254",
     "status": "completed"
    },
    "tags": []
   },
   "outputs": [],
   "source": [
    "#type your code here..."
   ]
  },
  {
   "cell_type": "markdown",
   "id": "6bd95ff5",
   "metadata": {
    "papermill": {
     "duration": 0.03855,
     "end_time": "2023-12-15T20:40:39.273607",
     "exception": false,
     "start_time": "2023-12-15T20:40:39.235057",
     "status": "completed"
    },
    "tags": []
   },
   "source": [
    "<div dir = \"rtl\" style=\"font-face:IranSansX;direction:rtl;line-height:250%;font-size:small;\">\n",
    "\t<font face=\"IranSansX\" size=3>\n",
    "        ابتدا 2 درصد از داده‌های ستون Price را به صورت تصادفی انتخاب کنید و سپس نمودار خط‌ شکسته را برای این داده‌ها رسم کنید.(محورها دارای label باشند و رنگ نمودار قرمز باشد.)\n",
    "    </font>\n",
    "</div>"
   ]
  },
  {
   "cell_type": "code",
   "execution_count": 54,
   "id": "22dba2bf",
   "metadata": {
    "execution": {
     "iopub.execute_input": "2023-12-15T20:40:36.924119Z",
     "iopub.status.busy": "2023-12-15T20:40:36.923721Z",
     "iopub.status.idle": "2023-12-15T20:40:36.928108Z",
     "shell.execute_reply": "2023-12-15T20:40:36.927Z"
    },
    "papermill": {
     "duration": 0.047461,
     "end_time": "2023-12-15T20:40:39.359723",
     "exception": false,
     "start_time": "2023-12-15T20:40:39.312262",
     "status": "completed"
    },
    "tags": []
   },
   "outputs": [],
   "source": [
    "#type your code here..."
   ]
  },
  {
   "cell_type": "markdown",
   "id": "8997b3cd",
   "metadata": {
    "papermill": {
     "duration": 0.038857,
     "end_time": "2023-12-15T20:40:39.437224",
     "exception": false,
     "start_time": "2023-12-15T20:40:39.398367",
     "status": "completed"
    },
    "tags": []
   },
   "source": [
    "<div dir = \"rtl\" style=\"font-face:IranSansX;direction:rtl;line-height:250%;font-size:small;\">\n",
    "\t<font face=\"IranSansX\" size=3>\n",
    "        همانطور که میبینید نمودار قبلی ظاهر خوبی ندارد و شرط تابع بودن را نقض کرده است، داده‌های تصادفی مرحله قبل را به گونه‌ای sort کنید نمودار ما تبدیل به یک تابعی شود که اکیدا یکنوا نیست و نوسان دارد.\n",
    "    </font>\n",
    "</div>"
   ]
  },
  {
   "cell_type": "code",
   "execution_count": 55,
   "id": "d61b5613",
   "metadata": {
    "execution": {
     "iopub.execute_input": "2023-12-15T20:40:37.085683Z",
     "iopub.status.busy": "2023-12-15T20:40:37.085273Z",
     "iopub.status.idle": "2023-12-15T20:40:37.090021Z",
     "shell.execute_reply": "2023-12-15T20:40:37.088976Z"
    },
    "papermill": {
     "duration": 0.047276,
     "end_time": "2023-12-15T20:40:39.523034",
     "exception": false,
     "start_time": "2023-12-15T20:40:39.475758",
     "status": "completed"
    },
    "tags": []
   },
   "outputs": [],
   "source": [
    "#type your code here..."
   ]
  },
  {
   "cell_type": "markdown",
   "id": "b0f7261c",
   "metadata": {
    "papermill": {
     "duration": 0.038564,
     "end_time": "2023-12-15T20:40:39.600541",
     "exception": false,
     "start_time": "2023-12-15T20:40:39.561977",
     "status": "completed"
    },
    "tags": []
   },
   "source": [
    "<div dir = \"rtl\" style=\"font-face:IranSansX;direction:rtl;line-height:250%;font-size:small;\">\n",
    "\t<font face=\"IranSansX\" size=3>\n",
    "        نمودار قسمت قبل را به گونه‌ای رسم کنید که نقاط شکستگی نمودار با یک دایره با رنگ آبی نشان داده شوند.\n",
    "    </font>\n",
    "</div>"
   ]
  },
  {
   "cell_type": "code",
   "execution_count": 56,
   "id": "721daa60",
   "metadata": {
    "execution": {
     "iopub.execute_input": "2023-12-15T20:40:37.402541Z",
     "iopub.status.busy": "2023-12-15T20:40:37.401306Z",
     "iopub.status.idle": "2023-12-15T20:40:37.405988Z",
     "shell.execute_reply": "2023-12-15T20:40:37.405014Z"
    },
    "papermill": {
     "duration": 0.046056,
     "end_time": "2023-12-15T20:40:39.685356",
     "exception": false,
     "start_time": "2023-12-15T20:40:39.6393",
     "status": "completed"
    },
    "tags": []
   },
   "outputs": [],
   "source": [
    "#type your code here..."
   ]
  },
  {
   "cell_type": "markdown",
   "id": "78556eb7",
   "metadata": {
    "papermill": {
     "duration": 0.038545,
     "end_time": "2023-12-15T20:40:39.762534",
     "exception": false,
     "start_time": "2023-12-15T20:40:39.723989",
     "status": "completed"
    },
    "tags": []
   },
   "source": [
    "<div dir = \"rtl\" style=\"font-face:IranSansX;direction:rtl;line-height:250%;font-size:small;\">\n",
    "\t<font face=\"IranSansX\" size=3>\n",
    "        نمودار خط شکسته‌ی Price(USD) برحسب Area را رسم کنید.\n",
    "    </font>\n",
    "</div>"
   ]
  },
  {
   "cell_type": "code",
   "execution_count": 57,
   "id": "e32735ff",
   "metadata": {
    "execution": {
     "iopub.execute_input": "2023-12-15T20:40:37.562192Z",
     "iopub.status.busy": "2023-12-15T20:40:37.561781Z",
     "iopub.status.idle": "2023-12-15T20:40:37.566189Z",
     "shell.execute_reply": "2023-12-15T20:40:37.565071Z"
    },
    "papermill": {
     "duration": 0.046347,
     "end_time": "2023-12-15T20:40:39.847563",
     "exception": false,
     "start_time": "2023-12-15T20:40:39.801216",
     "status": "completed"
    },
    "tags": []
   },
   "outputs": [],
   "source": [
    "#type your code here..."
   ]
  },
  {
   "cell_type": "markdown",
   "id": "ce4d92f6",
   "metadata": {
    "papermill": {
     "duration": 0.038679,
     "end_time": "2023-12-15T20:40:39.926799",
     "exception": false,
     "start_time": "2023-12-15T20:40:39.88812",
     "status": "completed"
    },
    "tags": []
   },
   "source": [
    "<div dir = \"rtl\" style=\"font-face:IranSansX;direction:rtl;line-height:250%;font-size:small;\">\n",
    "\t<font face=\"IranSansX\" size=3>\n",
    "        به نمودار رسم شده در قسمت قبل، نمودار روند تغییرات مرتبه اول(خطی) را اضافه کنید.(برای پیدا کردن ضرایب رگرسیون می‌توانید از تابع polyfit در کتابخانه numpy استفاده کنید.)\n",
    "    </font>\n",
    "</div>"
   ]
  },
  {
   "cell_type": "code",
   "execution_count": 58,
   "id": "917deb72",
   "metadata": {
    "execution": {
     "iopub.execute_input": "2023-12-15T20:40:37.724003Z",
     "iopub.status.busy": "2023-12-15T20:40:37.723253Z",
     "iopub.status.idle": "2023-12-15T20:40:37.727117Z",
     "shell.execute_reply": "2023-12-15T20:40:37.726366Z"
    },
    "papermill": {
     "duration": 0.047289,
     "end_time": "2023-12-15T20:40:40.012946",
     "exception": false,
     "start_time": "2023-12-15T20:40:39.965657",
     "status": "completed"
    },
    "tags": []
   },
   "outputs": [],
   "source": [
    "#type your code here..."
   ]
  },
  {
   "cell_type": "markdown",
   "id": "ad91964d",
   "metadata": {
    "papermill": {
     "duration": 0.03896,
     "end_time": "2023-12-15T20:40:40.092074",
     "exception": false,
     "start_time": "2023-12-15T20:40:40.053114",
     "status": "completed"
    },
    "tags": []
   },
   "source": [
    "<div dir = \"rtl\" style=\"font-face:IranSansX;direction:rtl;line-height:250%;font-size:small;\">\n",
    "\t<font face=\"IranSansX\" size=3>\n",
    "        نمودار روند تغییرات خطی که در قسمت قبل رسم کردیم را به صورت خط‌چین با رنگ قرمز رسم کنید.\n",
    "    </font>\n",
    "</div>"
   ]
  },
  {
   "cell_type": "code",
   "execution_count": 59,
   "id": "f5eda882",
   "metadata": {
    "execution": {
     "iopub.execute_input": "2023-12-15T20:40:38.041218Z",
     "iopub.status.busy": "2023-12-15T20:40:38.040425Z",
     "iopub.status.idle": "2023-12-15T20:40:38.045045Z",
     "shell.execute_reply": "2023-12-15T20:40:38.044001Z"
    },
    "papermill": {
     "duration": 0.047174,
     "end_time": "2023-12-15T20:40:40.179343",
     "exception": false,
     "start_time": "2023-12-15T20:40:40.132169",
     "status": "completed"
    },
    "tags": []
   },
   "outputs": [],
   "source": [
    "#type your code here..."
   ]
  },
  {
   "cell_type": "markdown",
   "id": "cbc0f3d6",
   "metadata": {
    "papermill": {
     "duration": 0.038759,
     "end_time": "2023-12-15T20:40:40.25729",
     "exception": false,
     "start_time": "2023-12-15T20:40:40.218531",
     "status": "completed"
    },
    "tags": []
   },
   "source": [
    "<div dir = \"rtl\" style=\"font-face:IranSansX;direction:rtl;line-height:250%;font-size:small;\">\n",
    "\t<font face=\"IranSansX\" size=3>\n",
    "        نمودار Barplot را برای ستون Price برحسب ستون Room رسم کنید.(نمودار باید دارای title و label مناسب باشد.)\n",
    "    </font>\n",
    "</div>"
   ]
  },
  {
   "cell_type": "code",
   "execution_count": 60,
   "id": "ce3bc219",
   "metadata": {
    "execution": {
     "iopub.execute_input": "2023-12-15T20:40:38.359219Z",
     "iopub.status.busy": "2023-12-15T20:40:38.358249Z",
     "iopub.status.idle": "2023-12-15T20:40:38.362578Z",
     "shell.execute_reply": "2023-12-15T20:40:38.361801Z"
    },
    "papermill": {
     "duration": 0.047108,
     "end_time": "2023-12-15T20:40:40.343999",
     "exception": false,
     "start_time": "2023-12-15T20:40:40.296891",
     "status": "completed"
    },
    "tags": []
   },
   "outputs": [],
   "source": [
    "#type your code here..."
   ]
  },
  {
   "cell_type": "markdown",
   "id": "653f5fce",
   "metadata": {
    "papermill": {
     "duration": 0.038894,
     "end_time": "2023-12-15T20:40:40.422237",
     "exception": false,
     "start_time": "2023-12-15T20:40:40.383343",
     "status": "completed"
    },
    "tags": []
   },
   "source": [
    "<div dir = \"rtl\" style=\"font-face:IranSansX;direction:rtl;line-height:250%;font-size:small;\">\n",
    "\t<font face=\"IranSansX\" size=3>\n",
    "        توضیح دهید که کاربرد Barplot چیست؟\n",
    "    </font>\n",
    "</div>"
   ]
  },
  {
   "cell_type": "markdown",
   "id": "81a2ae3a",
   "metadata": {
    "papermill": {
     "duration": 0.038972,
     "end_time": "2023-12-15T20:40:40.500304",
     "exception": false,
     "start_time": "2023-12-15T20:40:40.461332",
     "status": "completed"
    },
    "tags": []
   },
   "source": [
    "<div dir = \"rtl\" style=\"font-face:IranSansX;direction:rtl;font-size:small;\">\n",
    "\t<font face=\"IranSansX\" size=2 color=#006bcf>\n",
    "متن پاسخ خود را اینجا paste کنید.\n",
    "    </font>\n",
    "</div>"
   ]
  }
 ],
 "metadata": {
  "kaggle": {
   "accelerator": "none",
   "dataSources": [
    {
     "datasetId": 4171104,
     "sourceId": 7209149,
     "sourceType": "datasetVersion"
    }
   ],
   "dockerImageVersionId": 30626,
   "isGpuEnabled": false,
   "isInternetEnabled": false,
   "language": "python",
   "sourceType": "notebook"
  },
  "kernelspec": {
   "display_name": "Python 3 (ipykernel)",
   "language": "python",
   "name": "python3"
  },
  "language_info": {
   "codemirror_mode": {
    "name": "ipython",
    "version": 3
   },
   "file_extension": ".py",
   "mimetype": "text/x-python",
   "name": "python",
   "nbconvert_exporter": "python",
   "pygments_lexer": "ipython3",
   "version": "3.11.6"
  },
  "papermill": {
   "default_parameters": {},
   "duration": 31.66692,
   "end_time": "2023-12-15T20:40:40.959251",
   "environment_variables": {},
   "exception": null,
   "input_path": "__notebook__.ipynb",
   "output_path": "__notebook__.ipynb",
   "parameters": {},
   "start_time": "2023-12-15T20:40:09.292331",
   "version": "2.4.0"
  }
 },
 "nbformat": 4,
 "nbformat_minor": 5
}
